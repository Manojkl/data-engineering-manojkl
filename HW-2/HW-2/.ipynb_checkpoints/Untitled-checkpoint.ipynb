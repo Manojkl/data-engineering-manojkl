{
 "cells": [
  {
   "cell_type": "code",
   "execution_count": 3,
   "id": "4a7ee0c2",
   "metadata": {},
   "outputs": [],
   "source": [
    "from pathlib import Path\n",
    "import pandas as pd\n",
    "from prefect import flow, task\n",
    "from prefect_gcp.cloud_storage import GcsBucket\n",
    "from random import randint\n",
    "import os"
   ]
  },
  {
   "cell_type": "code",
   "execution_count": 8,
   "id": "cfb4c0a7",
   "metadata": {},
   "outputs": [
    {
     "name": "stderr",
     "output_type": "stream",
     "text": [
      "/Users/manojkl/miniforge3/envs/etl_gcp/lib/python3.9/site-packages/prefect/tasks.py:256: UserWarning: A task named 'fetch' and defined at '/var/folders/lf/203pfq2545v143_jyxtx1sgh0000gn/T/ipykernel_8602/479428369.py:1' conflicts with another task. Consider specifying a unique `name` parameter in the task definition:\n",
      "\n",
      " `@task(name='my_unique_name', ...)`\n",
      "  warnings.warn(\n",
      "/Users/manojkl/miniforge3/envs/etl_gcp/lib/python3.9/site-packages/prefect/tasks.py:256: UserWarning: A task named 'clean' and defined at '/var/folders/lf/203pfq2545v143_jyxtx1sgh0000gn/T/ipykernel_8602/479428369.py:11' conflicts with another task. Consider specifying a unique `name` parameter in the task definition:\n",
      "\n",
      " `@task(name='my_unique_name', ...)`\n",
      "  warnings.warn(\n",
      "/Users/manojkl/miniforge3/envs/etl_gcp/lib/python3.9/site-packages/prefect/tasks.py:256: UserWarning: A task named 'write_local' and defined at '/var/folders/lf/203pfq2545v143_jyxtx1sgh0000gn/T/ipykernel_8602/479428369.py:22' conflicts with another task. Consider specifying a unique `name` parameter in the task definition:\n",
      "\n",
      " `@task(name='my_unique_name', ...)`\n",
      "  warnings.warn(\n",
      "/Users/manojkl/miniforge3/envs/etl_gcp/lib/python3.9/site-packages/prefect/tasks.py:256: UserWarning: A task named 'write_gcs' and defined at '/var/folders/lf/203pfq2545v143_jyxtx1sgh0000gn/T/ipykernel_8602/479428369.py:39' conflicts with another task. Consider specifying a unique `name` parameter in the task definition:\n",
      "\n",
      " `@task(name='my_unique_name', ...)`\n",
      "  warnings.warn(\n",
      "/Users/manojkl/miniforge3/envs/etl_gcp/lib/python3.9/site-packages/prefect/flows.py:206: UserWarning: A flow named 'etl-web-to-gcs' and defined at '/var/folders/lf/203pfq2545v143_jyxtx1sgh0000gn/T/ipykernel_8602/479428369.py:47' conflicts with another flow. Consider specifying a unique `name` parameter in the flow definition:\n",
      "\n",
      " `@flow(name='my_unique_name', ...)`\n",
      "  warnings.warn(\n"
     ]
    },
    {
     "data": {
      "text/html": [
       "<pre style=\"white-space:pre;overflow-x:auto;line-height:normal;font-family:Menlo,'DejaVu Sans Mono',consolas,'Courier New',monospace\">17:13:44.600 | <span style=\"color: #008080; text-decoration-color: #008080\">INFO</span>    | prefect.engine - Created flow run<span style=\"color: #800080; text-decoration-color: #800080\"> 'garrulous-spaniel'</span> for flow<span style=\"color: #800080; text-decoration-color: #800080; font-weight: bold\"> 'etl-web-to-gcs'</span>\n",
       "</pre>\n"
      ],
      "text/plain": [
       "17:13:44.600 | \u001b[36mINFO\u001b[0m    | prefect.engine - Created flow run\u001b[35m 'garrulous-spaniel'\u001b[0m for flow\u001b[1;35m 'etl-web-to-gcs'\u001b[0m\n"
      ]
     },
     "metadata": {},
     "output_type": "display_data"
    },
    {
     "data": {
      "text/html": [
       "<pre style=\"white-space:pre;overflow-x:auto;line-height:normal;font-family:Menlo,'DejaVu Sans Mono',consolas,'Courier New',monospace\">17:13:44.712 | <span style=\"color: #008080; text-decoration-color: #008080\">INFO</span>    | Flow run<span style=\"color: #800080; text-decoration-color: #800080\"> 'garrulous-spaniel'</span> - Created task run 'fetch-b4598a4a-0' for task 'fetch'\n",
       "</pre>\n"
      ],
      "text/plain": [
       "17:13:44.712 | \u001b[36mINFO\u001b[0m    | Flow run\u001b[35m 'garrulous-spaniel'\u001b[0m - Created task run 'fetch-b4598a4a-0' for task 'fetch'\n"
      ]
     },
     "metadata": {},
     "output_type": "display_data"
    },
    {
     "data": {
      "text/html": [
       "<pre style=\"white-space:pre;overflow-x:auto;line-height:normal;font-family:Menlo,'DejaVu Sans Mono',consolas,'Courier New',monospace\">17:13:44.714 | <span style=\"color: #008080; text-decoration-color: #008080\">INFO</span>    | Flow run<span style=\"color: #800080; text-decoration-color: #800080\"> 'garrulous-spaniel'</span> - Executing 'fetch-b4598a4a-0' immediately...\n",
       "</pre>\n"
      ],
      "text/plain": [
       "17:13:44.714 | \u001b[36mINFO\u001b[0m    | Flow run\u001b[35m 'garrulous-spaniel'\u001b[0m - Executing 'fetch-b4598a4a-0' immediately...\n"
      ]
     },
     "metadata": {},
     "output_type": "display_data"
    },
    {
     "name": "stderr",
     "output_type": "stream",
     "text": [
      "/var/folders/lf/203pfq2545v143_jyxtx1sgh0000gn/T/ipykernel_8602/479428369.py:7: DtypeWarning: Columns (3) have mixed types. Specify dtype option on import or set low_memory=False.\n",
      "  df = pd.read_csv(dataset_url)\n"
     ]
    },
    {
     "data": {
      "text/html": [
       "<pre style=\"white-space:pre;overflow-x:auto;line-height:normal;font-family:Menlo,'DejaVu Sans Mono',consolas,'Courier New',monospace\">17:13:47.237 | <span style=\"color: #008080; text-decoration-color: #008080\">INFO</span>    | Task run 'fetch-b4598a4a-0' - Finished in state <span style=\"color: #008000; text-decoration-color: #008000\">Completed</span>()\n",
       "</pre>\n"
      ],
      "text/plain": [
       "17:13:47.237 | \u001b[36mINFO\u001b[0m    | Task run 'fetch-b4598a4a-0' - Finished in state \u001b[32mCompleted\u001b[0m()\n"
      ]
     },
     "metadata": {},
     "output_type": "display_data"
    },
    {
     "data": {
      "text/html": [
       "<pre style=\"white-space:pre;overflow-x:auto;line-height:normal;font-family:Menlo,'DejaVu Sans Mono',consolas,'Courier New',monospace\">17:13:47.263 | <span style=\"color: #008080; text-decoration-color: #008080\">INFO</span>    | Flow run<span style=\"color: #800080; text-decoration-color: #800080\"> 'garrulous-spaniel'</span> - Created task run 'clean-b9fd7e03-0' for task 'clean'\n",
       "</pre>\n"
      ],
      "text/plain": [
       "17:13:47.263 | \u001b[36mINFO\u001b[0m    | Flow run\u001b[35m 'garrulous-spaniel'\u001b[0m - Created task run 'clean-b9fd7e03-0' for task 'clean'\n"
      ]
     },
     "metadata": {},
     "output_type": "display_data"
    },
    {
     "data": {
      "text/html": [
       "<pre style=\"white-space:pre;overflow-x:auto;line-height:normal;font-family:Menlo,'DejaVu Sans Mono',consolas,'Courier New',monospace\">17:13:47.264 | <span style=\"color: #008080; text-decoration-color: #008080\">INFO</span>    | Flow run<span style=\"color: #800080; text-decoration-color: #800080\"> 'garrulous-spaniel'</span> - Executing 'clean-b9fd7e03-0' immediately...\n",
       "</pre>\n"
      ],
      "text/plain": [
       "17:13:47.264 | \u001b[36mINFO\u001b[0m    | Flow run\u001b[35m 'garrulous-spaniel'\u001b[0m - Executing 'clean-b9fd7e03-0' immediately...\n"
      ]
     },
     "metadata": {},
     "output_type": "display_data"
    },
    {
     "data": {
      "text/html": [
       "<pre style=\"white-space:pre;overflow-x:auto;line-height:normal;font-family:Menlo,'DejaVu Sans Mono',consolas,'Courier New',monospace\">17:13:47.450 | <span style=\"color: #008080; text-decoration-color: #008080\">INFO</span>    | Task run 'clean-b9fd7e03-0' -    VendorID lpep_pickup_datetime lpep_dropoff_datetime store_and_fwd_flag  \\\n",
       "0       2.0  2019-12-18 15:52:30   2019-12-18 15:54:39                  N   \n",
       "1       2.0  2020-01-01 00:45:58   2020-01-01 00:56:39                  N   \n",
       "\n",
       "   RatecodeID  PULocationID  DOLocationID  passenger_count  trip_distance  \\\n",
       "0         1.0           264           264              5.0           0.00   \n",
       "1         5.0            66            65              2.0           1.28   \n",
       "\n",
       "   fare_amount  extra  mta_tax  tip_amount  tolls_amount  ehail_fee  \\\n",
       "0          3.5    0.5      0.5        0.01           0.0        NaN   \n",
       "1         20.0    0.0      0.0        4.06           0.0        NaN   \n",
       "\n",
       "   improvement_surcharge  total_amount  payment_type  trip_type  \\\n",
       "0                    0.3          4.81           1.0        1.0   \n",
       "1                    0.3         24.36           1.0        2.0   \n",
       "\n",
       "   congestion_surcharge  \n",
       "0                   0.0  \n",
       "1                   0.0\n",
       "</pre>\n"
      ],
      "text/plain": [
       "17:13:47.450 | \u001b[36mINFO\u001b[0m    | Task run 'clean-b9fd7e03-0' -    VendorID lpep_pickup_datetime lpep_dropoff_datetime store_and_fwd_flag  \\\n",
       "0       2.0  2019-12-18 15:52:30   2019-12-18 15:54:39                  N   \n",
       "1       2.0  2020-01-01 00:45:58   2020-01-01 00:56:39                  N   \n",
       "\n",
       "   RatecodeID  PULocationID  DOLocationID  passenger_count  trip_distance  \\\n",
       "0         1.0           264           264              5.0           0.00   \n",
       "1         5.0            66            65              2.0           1.28   \n",
       "\n",
       "   fare_amount  extra  mta_tax  tip_amount  tolls_amount  ehail_fee  \\\n",
       "0          3.5    0.5      0.5        0.01           0.0        NaN   \n",
       "1         20.0    0.0      0.0        4.06           0.0        NaN   \n",
       "\n",
       "   improvement_surcharge  total_amount  payment_type  trip_type  \\\n",
       "0                    0.3          4.81           1.0        1.0   \n",
       "1                    0.3         24.36           1.0        2.0   \n",
       "\n",
       "   congestion_surcharge  \n",
       "0                   0.0  \n",
       "1                   0.0\n"
      ]
     },
     "metadata": {},
     "output_type": "display_data"
    },
    {
     "data": {
      "text/html": [
       "<pre style=\"white-space:pre;overflow-x:auto;line-height:normal;font-family:Menlo,'DejaVu Sans Mono',consolas,'Courier New',monospace\">17:13:47.452 | <span style=\"color: #008080; text-decoration-color: #008080\">INFO</span>    | Task run 'clean-b9fd7e03-0' - columns: VendorID                        float64\n",
       "lpep_pickup_datetime     datetime64[ns]\n",
       "lpep_dropoff_datetime    datetime64[ns]\n",
       "store_and_fwd_flag               object\n",
       "RatecodeID                      float64\n",
       "PULocationID                      int64\n",
       "DOLocationID                      int64\n",
       "passenger_count                 float64\n",
       "trip_distance                   float64\n",
       "fare_amount                     float64\n",
       "extra                           float64\n",
       "mta_tax                         float64\n",
       "tip_amount                      float64\n",
       "tolls_amount                    float64\n",
       "ehail_fee                       float64\n",
       "improvement_surcharge           float64\n",
       "total_amount                    float64\n",
       "payment_type                    float64\n",
       "trip_type                       float64\n",
       "congestion_surcharge            float64\n",
       "dtype: object\n",
       "</pre>\n"
      ],
      "text/plain": [
       "17:13:47.452 | \u001b[36mINFO\u001b[0m    | Task run 'clean-b9fd7e03-0' - columns: VendorID                        float64\n",
       "lpep_pickup_datetime     datetime64[ns]\n",
       "lpep_dropoff_datetime    datetime64[ns]\n",
       "store_and_fwd_flag               object\n",
       "RatecodeID                      float64\n",
       "PULocationID                      int64\n",
       "DOLocationID                      int64\n",
       "passenger_count                 float64\n",
       "trip_distance                   float64\n",
       "fare_amount                     float64\n",
       "extra                           float64\n",
       "mta_tax                         float64\n",
       "tip_amount                      float64\n",
       "tolls_amount                    float64\n",
       "ehail_fee                       float64\n",
       "improvement_surcharge           float64\n",
       "total_amount                    float64\n",
       "payment_type                    float64\n",
       "trip_type                       float64\n",
       "congestion_surcharge            float64\n",
       "dtype: object\n"
      ]
     },
     "metadata": {},
     "output_type": "display_data"
    },
    {
     "data": {
      "text/html": [
       "<pre style=\"white-space:pre;overflow-x:auto;line-height:normal;font-family:Menlo,'DejaVu Sans Mono',consolas,'Courier New',monospace\">17:13:47.453 | <span style=\"color: #008080; text-decoration-color: #008080\">INFO</span>    | Task run 'clean-b9fd7e03-0' - rows: 447770\n",
       "</pre>\n"
      ],
      "text/plain": [
       "17:13:47.453 | \u001b[36mINFO\u001b[0m    | Task run 'clean-b9fd7e03-0' - rows: 447770\n"
      ]
     },
     "metadata": {},
     "output_type": "display_data"
    },
    {
     "data": {
      "text/html": [
       "<pre style=\"white-space:pre;overflow-x:auto;line-height:normal;font-family:Menlo,'DejaVu Sans Mono',consolas,'Courier New',monospace\">17:13:47.487 | <span style=\"color: #008080; text-decoration-color: #008080\">INFO</span>    | Task run 'clean-b9fd7e03-0' - Finished in state <span style=\"color: #008000; text-decoration-color: #008000\">Completed</span>()\n",
       "</pre>\n"
      ],
      "text/plain": [
       "17:13:47.487 | \u001b[36mINFO\u001b[0m    | Task run 'clean-b9fd7e03-0' - Finished in state \u001b[32mCompleted\u001b[0m()\n"
      ]
     },
     "metadata": {},
     "output_type": "display_data"
    },
    {
     "data": {
      "text/html": [
       "<pre style=\"white-space:pre;overflow-x:auto;line-height:normal;font-family:Menlo,'DejaVu Sans Mono',consolas,'Courier New',monospace\">17:13:47.517 | <span style=\"color: #008080; text-decoration-color: #008080\">INFO</span>    | Flow run<span style=\"color: #800080; text-decoration-color: #800080\"> 'garrulous-spaniel'</span> - Created task run 'write_local-f322d1be-0' for task 'write_local'\n",
       "</pre>\n"
      ],
      "text/plain": [
       "17:13:47.517 | \u001b[36mINFO\u001b[0m    | Flow run\u001b[35m 'garrulous-spaniel'\u001b[0m - Created task run 'write_local-f322d1be-0' for task 'write_local'\n"
      ]
     },
     "metadata": {},
     "output_type": "display_data"
    },
    {
     "data": {
      "text/html": [
       "<pre style=\"white-space:pre;overflow-x:auto;line-height:normal;font-family:Menlo,'DejaVu Sans Mono',consolas,'Courier New',monospace\">17:13:47.518 | <span style=\"color: #008080; text-decoration-color: #008080\">INFO</span>    | Flow run<span style=\"color: #800080; text-decoration-color: #800080\"> 'garrulous-spaniel'</span> - Executing 'write_local-f322d1be-0' immediately...\n",
       "</pre>\n"
      ],
      "text/plain": [
       "17:13:47.518 | \u001b[36mINFO\u001b[0m    | Flow run\u001b[35m 'garrulous-spaniel'\u001b[0m - Executing 'write_local-f322d1be-0' immediately...\n"
      ]
     },
     "metadata": {},
     "output_type": "display_data"
    },
    {
     "name": "stdout",
     "output_type": "stream",
     "text": [
      "created folder: data/green/\n"
     ]
    },
    {
     "data": {
      "text/html": [
       "<pre style=\"white-space:pre;overflow-x:auto;line-height:normal;font-family:Menlo,'DejaVu Sans Mono',consolas,'Courier New',monospace\">17:13:48.732 | <span style=\"color: #008080; text-decoration-color: #008080\">INFO</span>    | Task run 'write_local-f322d1be-0' - Finished in state <span style=\"color: #008000; text-decoration-color: #008000\">Completed</span>()\n",
       "</pre>\n"
      ],
      "text/plain": [
       "17:13:48.732 | \u001b[36mINFO\u001b[0m    | Task run 'write_local-f322d1be-0' - Finished in state \u001b[32mCompleted\u001b[0m()\n"
      ]
     },
     "metadata": {},
     "output_type": "display_data"
    },
    {
     "data": {
      "text/html": [
       "<pre style=\"white-space:pre;overflow-x:auto;line-height:normal;font-family:Menlo,'DejaVu Sans Mono',consolas,'Courier New',monospace\">17:13:48.761 | <span style=\"color: #008080; text-decoration-color: #008080\">INFO</span>    | Flow run<span style=\"color: #800080; text-decoration-color: #800080\"> 'garrulous-spaniel'</span> - Created task run 'write_gcs-1145c921-0' for task 'write_gcs'\n",
       "</pre>\n"
      ],
      "text/plain": [
       "17:13:48.761 | \u001b[36mINFO\u001b[0m    | Flow run\u001b[35m 'garrulous-spaniel'\u001b[0m - Created task run 'write_gcs-1145c921-0' for task 'write_gcs'\n"
      ]
     },
     "metadata": {},
     "output_type": "display_data"
    },
    {
     "data": {
      "text/html": [
       "<pre style=\"white-space:pre;overflow-x:auto;line-height:normal;font-family:Menlo,'DejaVu Sans Mono',consolas,'Courier New',monospace\">17:13:48.763 | <span style=\"color: #008080; text-decoration-color: #008080\">INFO</span>    | Flow run<span style=\"color: #800080; text-decoration-color: #800080\"> 'garrulous-spaniel'</span> - Executing 'write_gcs-1145c921-0' immediately...\n",
       "</pre>\n"
      ],
      "text/plain": [
       "17:13:48.763 | \u001b[36mINFO\u001b[0m    | Flow run\u001b[35m 'garrulous-spaniel'\u001b[0m - Executing 'write_gcs-1145c921-0' immediately...\n"
      ]
     },
     "metadata": {},
     "output_type": "display_data"
    },
    {
     "data": {
      "text/html": [
       "<pre style=\"white-space:pre;overflow-x:auto;line-height:normal;font-family:Menlo,'DejaVu Sans Mono',consolas,'Courier New',monospace\">17:13:48.927 | <span style=\"color: #008080; text-decoration-color: #008080\">INFO</span>    | Task run 'write_gcs-1145c921-0' - Getting bucket 'dtc_data_lake_esoteric-pen-376110'.\n",
       "</pre>\n"
      ],
      "text/plain": [
       "17:13:48.927 | \u001b[36mINFO\u001b[0m    | Task run 'write_gcs-1145c921-0' - Getting bucket 'dtc_data_lake_esoteric-pen-376110'.\n"
      ]
     },
     "metadata": {},
     "output_type": "display_data"
    },
    {
     "data": {
      "text/html": [
       "<pre style=\"white-space:pre;overflow-x:auto;line-height:normal;font-family:Menlo,'DejaVu Sans Mono',consolas,'Courier New',monospace\">17:13:49.182 | <span style=\"color: #008080; text-decoration-color: #008080\">INFO</span>    | Task run 'write_gcs-1145c921-0' - Uploading from PosixPath('data/green/green_tripdata_2020-01.parquet') to the bucket 'dtc_data_lake_esoteric-pen-376110' path 'data/green/green_tripdata_2020-01.parquet'.\n",
       "</pre>\n"
      ],
      "text/plain": [
       "17:13:49.182 | \u001b[36mINFO\u001b[0m    | Task run 'write_gcs-1145c921-0' - Uploading from PosixPath('data/green/green_tripdata_2020-01.parquet') to the bucket 'dtc_data_lake_esoteric-pen-376110' path 'data/green/green_tripdata_2020-01.parquet'.\n"
      ]
     },
     "metadata": {},
     "output_type": "display_data"
    },
    {
     "data": {
      "text/html": [
       "<pre style=\"white-space:pre;overflow-x:auto;line-height:normal;font-family:Menlo,'DejaVu Sans Mono',consolas,'Courier New',monospace\">17:13:50.163 | <span style=\"color: #008080; text-decoration-color: #008080\">INFO</span>    | Task run 'write_gcs-1145c921-0' - Finished in state <span style=\"color: #008000; text-decoration-color: #008000\">Completed</span>()\n",
       "</pre>\n"
      ],
      "text/plain": [
       "17:13:50.163 | \u001b[36mINFO\u001b[0m    | Task run 'write_gcs-1145c921-0' - Finished in state \u001b[32mCompleted\u001b[0m()\n"
      ]
     },
     "metadata": {},
     "output_type": "display_data"
    },
    {
     "data": {
      "text/html": [
       "<pre style=\"white-space:pre;overflow-x:auto;line-height:normal;font-family:Menlo,'DejaVu Sans Mono',consolas,'Courier New',monospace\">17:13:50.193 | <span style=\"color: #008080; text-decoration-color: #008080\">INFO</span>    | Flow run<span style=\"color: #800080; text-decoration-color: #800080\"> 'garrulous-spaniel'</span> - Finished in state <span style=\"color: #008000; text-decoration-color: #008000\">Completed</span>('All states completed.')\n",
       "</pre>\n"
      ],
      "text/plain": [
       "17:13:50.193 | \u001b[36mINFO\u001b[0m    | Flow run\u001b[35m 'garrulous-spaniel'\u001b[0m - Finished in state \u001b[32mCompleted\u001b[0m('All states completed.')\n"
      ]
     },
     "metadata": {},
     "output_type": "display_data"
    }
   ],
   "source": [
    "@task(retries=3)\n",
    "def fetch(dataset_url: str) -> pd.DataFrame:\n",
    "    \"\"\"Read taxi data from web into pandas DataFrame\"\"\"\n",
    "    # if randint(0, 1) > 0:\n",
    "    #     raise Exception\n",
    "\n",
    "    df = pd.read_csv(dataset_url)\n",
    "    return df\n",
    "\n",
    "\n",
    "@task(log_prints=True)\n",
    "def clean(df: pd.DataFrame) -> pd.DataFrame:\n",
    "    \"\"\"Fix dtype issues\"\"\"\n",
    "    df[\"lpep_pickup_datetime\"] = pd.to_datetime(df[\"lpep_pickup_datetime\"])\n",
    "    df[\"lpep_dropoff_datetime\"] = pd.to_datetime(df[\"lpep_dropoff_datetime\"])\n",
    "    print(df.head(2))\n",
    "    print(f\"columns: {df.dtypes}\")\n",
    "    print(f\"rows: {len(df)}\")\n",
    "    return df\n",
    "\n",
    "\n",
    "@task()\n",
    "def write_local(df: pd.DataFrame, color: str, dataset_file: str) -> Path:\n",
    "    \"\"\"Write DataFrame out locally as parquet file\"\"\"\n",
    "    mydir = (f\"data/{color}/\")\n",
    "    check_folder = os.path.isdir(mydir)\n",
    "    \n",
    "    if not check_folder:\n",
    "        os.makedirs(mydir)\n",
    "        print(\"created folder:\", mydir)\n",
    "    else:\n",
    "        print(mydir, \"Folder already exists\")\n",
    "        \n",
    "    path = Path(f\"data/{color}/{dataset_file}.parquet\")\n",
    "    df.to_parquet(path, compression=\"gzip\")\n",
    "    return path\n",
    "\n",
    "\n",
    "@task()\n",
    "def write_gcs(path: Path) -> None:\n",
    "    \"\"\"Upload local parquet file to GCS\"\"\"\n",
    "    gcs_block = GcsBucket.load(\"zoom-gcs\")\n",
    "    gcs_block.upload_from_path(from_path=path, to_path=path)\n",
    "    return\n",
    "\n",
    "\n",
    "@flow()\n",
    "def etl_web_to_gcs() -> None:\n",
    "    \"\"\"The main ETL function\"\"\"\n",
    "    color = \"green\"\n",
    "    year = 2020\n",
    "    month = 1\n",
    "    dataset_file = f\"{color}_tripdata_{year}-{month:02}\"\n",
    "    dataset_url = f\"https://github.com/DataTalksClub/nyc-tlc-data/releases/download/{color}/{dataset_file}.csv.gz\"\n",
    "\n",
    "    df = fetch(dataset_url)\n",
    "    df_clean = clean(df)\n",
    "    path = write_local(df_clean, color, dataset_file)\n",
    "    write_gcs(path)\n",
    "\n",
    "\n",
    "if __name__ == \"__main__\":\n",
    "    etl_web_to_gcs()"
   ]
  },
  {
   "cell_type": "markdown",
   "id": "23f916cb",
   "metadata": {},
   "source": [
    "# Cron\n",
    "![Alt text](images/cron_u.png \"Cron\")\n",
    "\n",
    "Courtesy of https://crontab.guru/#0_5_1_1-12_*"
   ]
  }
 ],
 "metadata": {
  "kernelspec": {
   "display_name": "Python 3 (ipykernel)",
   "language": "python",
   "name": "python3"
  },
  "language_info": {
   "codemirror_mode": {
    "name": "ipython",
    "version": 3
   },
   "file_extension": ".py",
   "mimetype": "text/x-python",
   "name": "python",
   "nbconvert_exporter": "python",
   "pygments_lexer": "ipython3",
   "version": "3.9.16"
  }
 },
 "nbformat": 4,
 "nbformat_minor": 5
}
