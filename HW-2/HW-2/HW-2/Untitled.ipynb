{
 "cells": [
  {
   "cell_type": "code",
   "execution_count": 7,
   "id": "4a7ee0c2",
   "metadata": {},
   "outputs": [],
   "source": [
    "from pathlib import Path\n",
    "import pandas as pd\n",
    "from prefect import flow, task\n",
    "from prefect_gcp.cloud_storage import GcsBucket\n",
    "from random import randint\n",
    "import os\n",
    "from prefect.deployments import Deployment\n",
    "from prefect.infrastructure.docker import DockerContainer\n",
    "from prefect_gcp import GcpCredentials"
   ]
  },
  {
   "attachments": {},
   "cell_type": "markdown",
   "id": "f711adb3",
   "metadata": {},
   "source": [
    "\n",
    "## Question 1. Load January 2020 data\n",
    "\n",
    "Using the `etl_web_to_gcs.py` flow that loads taxi data into GCS as a guide, create a flow that loads the green taxi CSV dataset for January 2020 into GCS and run it. Look at the logs to find out how many rows the dataset has.\n",
    "\n",
    "How many rows does that dataset have?\n",
    "\n",
    "* 447,770\n",
    "* 766,792\n",
    "* 299,234\n",
    "* 822,132"
   ]
  },
  {
   "cell_type": "code",
   "execution_count": 4,
   "id": "cfb4c0a7",
   "metadata": {},
   "outputs": [
    {
     "name": "stderr",
     "output_type": "stream",
     "text": [
      "/Users/manojkl/miniforge3/envs/etl_gcp/lib/python3.9/site-packages/prefect/tasks.py:256: UserWarning: A task named 'fetch' and defined at '/var/folders/lf/203pfq2545v143_jyxtx1sgh0000gn/T/ipykernel_12638/24667178.py:1' conflicts with another task. Consider specifying a unique `name` parameter in the task definition:\n",
      "\n",
      " `@task(name='my_unique_name', ...)`\n",
      "  warnings.warn(\n",
      "/Users/manojkl/miniforge3/envs/etl_gcp/lib/python3.9/site-packages/prefect/tasks.py:256: UserWarning: A task named 'clean' and defined at '/var/folders/lf/203pfq2545v143_jyxtx1sgh0000gn/T/ipykernel_12638/24667178.py:11' conflicts with another task. Consider specifying a unique `name` parameter in the task definition:\n",
      "\n",
      " `@task(name='my_unique_name', ...)`\n",
      "  warnings.warn(\n",
      "/Users/manojkl/miniforge3/envs/etl_gcp/lib/python3.9/site-packages/prefect/tasks.py:256: UserWarning: A task named 'write_local' and defined at '/var/folders/lf/203pfq2545v143_jyxtx1sgh0000gn/T/ipykernel_12638/24667178.py:30' conflicts with another task. Consider specifying a unique `name` parameter in the task definition:\n",
      "\n",
      " `@task(name='my_unique_name', ...)`\n",
      "  warnings.warn(\n",
      "/Users/manojkl/miniforge3/envs/etl_gcp/lib/python3.9/site-packages/prefect/tasks.py:256: UserWarning: A task named 'write_gcs' and defined at '/var/folders/lf/203pfq2545v143_jyxtx1sgh0000gn/T/ipykernel_12638/24667178.py:47' conflicts with another task. Consider specifying a unique `name` parameter in the task definition:\n",
      "\n",
      " `@task(name='my_unique_name', ...)`\n",
      "  warnings.warn(\n",
      "/Users/manojkl/miniforge3/envs/etl_gcp/lib/python3.9/site-packages/prefect/flows.py:206: UserWarning: A flow named 'etl-web-to-gcs' and defined at '/var/folders/lf/203pfq2545v143_jyxtx1sgh0000gn/T/ipykernel_12638/24667178.py:55' conflicts with another flow. Consider specifying a unique `name` parameter in the flow definition:\n",
      "\n",
      " `@flow(name='my_unique_name', ...)`\n",
      "  warnings.warn(\n"
     ]
    },
    {
     "data": {
      "text/html": [
       "<pre style=\"white-space:pre;overflow-x:auto;line-height:normal;font-family:Menlo,'DejaVu Sans Mono',consolas,'Courier New',monospace\">18:06:53.383 | <span style=\"color: #008080; text-decoration-color: #008080\">INFO</span>    | prefect.engine - Created flow run<span style=\"color: #800080; text-decoration-color: #800080\"> 'refreshing-lion'</span> for flow<span style=\"color: #800080; text-decoration-color: #800080; font-weight: bold\"> 'etl-web-to-gcs'</span>\n",
       "</pre>\n"
      ],
      "text/plain": [
       "18:06:53.383 | \u001b[36mINFO\u001b[0m    | prefect.engine - Created flow run\u001b[35m 'refreshing-lion'\u001b[0m for flow\u001b[1;35m 'etl-web-to-gcs'\u001b[0m\n"
      ]
     },
     "metadata": {},
     "output_type": "display_data"
    },
    {
     "data": {
      "text/html": [
       "<pre style=\"white-space:pre;overflow-x:auto;line-height:normal;font-family:Menlo,'DejaVu Sans Mono',consolas,'Courier New',monospace\">18:06:53.504 | <span style=\"color: #008080; text-decoration-color: #008080\">INFO</span>    | Flow run<span style=\"color: #800080; text-decoration-color: #800080\"> 'refreshing-lion'</span> - Created task run 'fetch-b4598a4a-0' for task 'fetch'\n",
       "</pre>\n"
      ],
      "text/plain": [
       "18:06:53.504 | \u001b[36mINFO\u001b[0m    | Flow run\u001b[35m 'refreshing-lion'\u001b[0m - Created task run 'fetch-b4598a4a-0' for task 'fetch'\n"
      ]
     },
     "metadata": {},
     "output_type": "display_data"
    },
    {
     "data": {
      "text/html": [
       "<pre style=\"white-space:pre;overflow-x:auto;line-height:normal;font-family:Menlo,'DejaVu Sans Mono',consolas,'Courier New',monospace\">18:06:53.505 | <span style=\"color: #008080; text-decoration-color: #008080\">INFO</span>    | Flow run<span style=\"color: #800080; text-decoration-color: #800080\"> 'refreshing-lion'</span> - Executing 'fetch-b4598a4a-0' immediately...\n",
       "</pre>\n"
      ],
      "text/plain": [
       "18:06:53.505 | \u001b[36mINFO\u001b[0m    | Flow run\u001b[35m 'refreshing-lion'\u001b[0m - Executing 'fetch-b4598a4a-0' immediately...\n"
      ]
     },
     "metadata": {},
     "output_type": "display_data"
    },
    {
     "name": "stderr",
     "output_type": "stream",
     "text": [
      "/var/folders/lf/203pfq2545v143_jyxtx1sgh0000gn/T/ipykernel_12638/24667178.py:7: DtypeWarning: Columns (3) have mixed types. Specify dtype option on import or set low_memory=False.\n",
      "  df = pd.read_csv(dataset_url)\n"
     ]
    },
    {
     "data": {
      "text/html": [
       "<pre style=\"white-space:pre;overflow-x:auto;line-height:normal;font-family:Menlo,'DejaVu Sans Mono',consolas,'Courier New',monospace\">18:06:55.816 | <span style=\"color: #008080; text-decoration-color: #008080\">INFO</span>    | Task run 'fetch-b4598a4a-0' - Finished in state <span style=\"color: #008000; text-decoration-color: #008000\">Completed</span>()\n",
       "</pre>\n"
      ],
      "text/plain": [
       "18:06:55.816 | \u001b[36mINFO\u001b[0m    | Task run 'fetch-b4598a4a-0' - Finished in state \u001b[32mCompleted\u001b[0m()\n"
      ]
     },
     "metadata": {},
     "output_type": "display_data"
    },
    {
     "data": {
      "text/html": [
       "<pre style=\"white-space:pre;overflow-x:auto;line-height:normal;font-family:Menlo,'DejaVu Sans Mono',consolas,'Courier New',monospace\">18:06:55.846 | <span style=\"color: #008080; text-decoration-color: #008080\">INFO</span>    | Flow run<span style=\"color: #800080; text-decoration-color: #800080\"> 'refreshing-lion'</span> - Created task run 'clean-b9fd7e03-0' for task 'clean'\n",
       "</pre>\n"
      ],
      "text/plain": [
       "18:06:55.846 | \u001b[36mINFO\u001b[0m    | Flow run\u001b[35m 'refreshing-lion'\u001b[0m - Created task run 'clean-b9fd7e03-0' for task 'clean'\n"
      ]
     },
     "metadata": {},
     "output_type": "display_data"
    },
    {
     "data": {
      "text/html": [
       "<pre style=\"white-space:pre;overflow-x:auto;line-height:normal;font-family:Menlo,'DejaVu Sans Mono',consolas,'Courier New',monospace\">18:06:55.848 | <span style=\"color: #008080; text-decoration-color: #008080\">INFO</span>    | Flow run<span style=\"color: #800080; text-decoration-color: #800080\"> 'refreshing-lion'</span> - Executing 'clean-b9fd7e03-0' immediately...\n",
       "</pre>\n"
      ],
      "text/plain": [
       "18:06:55.848 | \u001b[36mINFO\u001b[0m    | Flow run\u001b[35m 'refreshing-lion'\u001b[0m - Executing 'clean-b9fd7e03-0' immediately...\n"
      ]
     },
     "metadata": {},
     "output_type": "display_data"
    },
    {
     "data": {
      "text/html": [
       "<pre style=\"white-space:pre;overflow-x:auto;line-height:normal;font-family:Menlo,'DejaVu Sans Mono',consolas,'Courier New',monospace\">18:06:56.039 | <span style=\"color: #008080; text-decoration-color: #008080\">INFO</span>    | Task run 'clean-b9fd7e03-0' -    VendorID lpep_pickup_datetime lpep_dropoff_datetime store_and_fwd_flag  \\\n",
       "0       2.0  2019-12-18 15:52:30   2019-12-18 15:54:39                  N   \n",
       "1       2.0  2020-01-01 00:45:58   2020-01-01 00:56:39                  N   \n",
       "\n",
       "   RatecodeID  PULocationID  DOLocationID  passenger_count  trip_distance  \\\n",
       "0         1.0           264           264              5.0           0.00   \n",
       "1         5.0            66            65              2.0           1.28   \n",
       "\n",
       "   fare_amount  extra  mta_tax  tip_amount  tolls_amount  ehail_fee  \\\n",
       "0          3.5    0.5      0.5        0.01           0.0        NaN   \n",
       "1         20.0    0.0      0.0        4.06           0.0        NaN   \n",
       "\n",
       "   improvement_surcharge  total_amount  payment_type  trip_type  \\\n",
       "0                    0.3          4.81           1.0        1.0   \n",
       "1                    0.3         24.36           1.0        2.0   \n",
       "\n",
       "   congestion_surcharge  \n",
       "0                   0.0  \n",
       "1                   0.0\n",
       "</pre>\n"
      ],
      "text/plain": [
       "18:06:56.039 | \u001b[36mINFO\u001b[0m    | Task run 'clean-b9fd7e03-0' -    VendorID lpep_pickup_datetime lpep_dropoff_datetime store_and_fwd_flag  \\\n",
       "0       2.0  2019-12-18 15:52:30   2019-12-18 15:54:39                  N   \n",
       "1       2.0  2020-01-01 00:45:58   2020-01-01 00:56:39                  N   \n",
       "\n",
       "   RatecodeID  PULocationID  DOLocationID  passenger_count  trip_distance  \\\n",
       "0         1.0           264           264              5.0           0.00   \n",
       "1         5.0            66            65              2.0           1.28   \n",
       "\n",
       "   fare_amount  extra  mta_tax  tip_amount  tolls_amount  ehail_fee  \\\n",
       "0          3.5    0.5      0.5        0.01           0.0        NaN   \n",
       "1         20.0    0.0      0.0        4.06           0.0        NaN   \n",
       "\n",
       "   improvement_surcharge  total_amount  payment_type  trip_type  \\\n",
       "0                    0.3          4.81           1.0        1.0   \n",
       "1                    0.3         24.36           1.0        2.0   \n",
       "\n",
       "   congestion_surcharge  \n",
       "0                   0.0  \n",
       "1                   0.0\n"
      ]
     },
     "metadata": {},
     "output_type": "display_data"
    },
    {
     "data": {
      "text/html": [
       "<pre style=\"white-space:pre;overflow-x:auto;line-height:normal;font-family:Menlo,'DejaVu Sans Mono',consolas,'Courier New',monospace\">18:06:56.041 | <span style=\"color: #008080; text-decoration-color: #008080\">INFO</span>    | Task run 'clean-b9fd7e03-0' - columns: VendorID                        float64\n",
       "lpep_pickup_datetime     datetime64[ns]\n",
       "lpep_dropoff_datetime    datetime64[ns]\n",
       "store_and_fwd_flag               object\n",
       "RatecodeID                      float64\n",
       "PULocationID                      int64\n",
       "DOLocationID                      int64\n",
       "passenger_count                 float64\n",
       "trip_distance                   float64\n",
       "fare_amount                     float64\n",
       "extra                           float64\n",
       "mta_tax                         float64\n",
       "tip_amount                      float64\n",
       "tolls_amount                    float64\n",
       "ehail_fee                       float64\n",
       "improvement_surcharge           float64\n",
       "total_amount                    float64\n",
       "payment_type                    float64\n",
       "trip_type                       float64\n",
       "congestion_surcharge            float64\n",
       "dtype: object\n",
       "</pre>\n"
      ],
      "text/plain": [
       "18:06:56.041 | \u001b[36mINFO\u001b[0m    | Task run 'clean-b9fd7e03-0' - columns: VendorID                        float64\n",
       "lpep_pickup_datetime     datetime64[ns]\n",
       "lpep_dropoff_datetime    datetime64[ns]\n",
       "store_and_fwd_flag               object\n",
       "RatecodeID                      float64\n",
       "PULocationID                      int64\n",
       "DOLocationID                      int64\n",
       "passenger_count                 float64\n",
       "trip_distance                   float64\n",
       "fare_amount                     float64\n",
       "extra                           float64\n",
       "mta_tax                         float64\n",
       "tip_amount                      float64\n",
       "tolls_amount                    float64\n",
       "ehail_fee                       float64\n",
       "improvement_surcharge           float64\n",
       "total_amount                    float64\n",
       "payment_type                    float64\n",
       "trip_type                       float64\n",
       "congestion_surcharge            float64\n",
       "dtype: object\n"
      ]
     },
     "metadata": {},
     "output_type": "display_data"
    },
    {
     "data": {
      "text/html": [
       "<pre style=\"white-space:pre;overflow-x:auto;line-height:normal;font-family:Menlo,'DejaVu Sans Mono',consolas,'Courier New',monospace\">18:06:56.042 | <span style=\"color: #008080; text-decoration-color: #008080\">INFO</span>    | Task run 'clean-b9fd7e03-0' - rows: 447770\n",
       "</pre>\n"
      ],
      "text/plain": [
       "18:06:56.042 | \u001b[36mINFO\u001b[0m    | Task run 'clean-b9fd7e03-0' - rows: 447770\n"
      ]
     },
     "metadata": {},
     "output_type": "display_data"
    },
    {
     "data": {
      "text/html": [
       "<pre style=\"white-space:pre;overflow-x:auto;line-height:normal;font-family:Menlo,'DejaVu Sans Mono',consolas,'Courier New',monospace\">18:06:56.066 | <span style=\"color: #008080; text-decoration-color: #008080\">INFO</span>    | Task run 'clean-b9fd7e03-0' - Finished in state <span style=\"color: #008000; text-decoration-color: #008000\">Completed</span>()\n",
       "</pre>\n"
      ],
      "text/plain": [
       "18:06:56.066 | \u001b[36mINFO\u001b[0m    | Task run 'clean-b9fd7e03-0' - Finished in state \u001b[32mCompleted\u001b[0m()\n"
      ]
     },
     "metadata": {},
     "output_type": "display_data"
    },
    {
     "data": {
      "text/html": [
       "<pre style=\"white-space:pre;overflow-x:auto;line-height:normal;font-family:Menlo,'DejaVu Sans Mono',consolas,'Courier New',monospace\">18:06:56.094 | <span style=\"color: #008080; text-decoration-color: #008080\">INFO</span>    | Flow run<span style=\"color: #800080; text-decoration-color: #800080\"> 'refreshing-lion'</span> - Created task run 'write_local-f322d1be-0' for task 'write_local'\n",
       "</pre>\n"
      ],
      "text/plain": [
       "18:06:56.094 | \u001b[36mINFO\u001b[0m    | Flow run\u001b[35m 'refreshing-lion'\u001b[0m - Created task run 'write_local-f322d1be-0' for task 'write_local'\n"
      ]
     },
     "metadata": {},
     "output_type": "display_data"
    },
    {
     "data": {
      "text/html": [
       "<pre style=\"white-space:pre;overflow-x:auto;line-height:normal;font-family:Menlo,'DejaVu Sans Mono',consolas,'Courier New',monospace\">18:06:56.095 | <span style=\"color: #008080; text-decoration-color: #008080\">INFO</span>    | Flow run<span style=\"color: #800080; text-decoration-color: #800080\"> 'refreshing-lion'</span> - Executing 'write_local-f322d1be-0' immediately...\n",
       "</pre>\n"
      ],
      "text/plain": [
       "18:06:56.095 | \u001b[36mINFO\u001b[0m    | Flow run\u001b[35m 'refreshing-lion'\u001b[0m - Executing 'write_local-f322d1be-0' immediately...\n"
      ]
     },
     "metadata": {},
     "output_type": "display_data"
    },
    {
     "name": "stdout",
     "output_type": "stream",
     "text": [
      "data/green/ Folder already exists\n"
     ]
    },
    {
     "data": {
      "text/html": [
       "<pre style=\"white-space:pre;overflow-x:auto;line-height:normal;font-family:Menlo,'DejaVu Sans Mono',consolas,'Courier New',monospace\">18:06:57.291 | <span style=\"color: #008080; text-decoration-color: #008080\">INFO</span>    | Task run 'write_local-f322d1be-0' - Finished in state <span style=\"color: #008000; text-decoration-color: #008000\">Completed</span>()\n",
       "</pre>\n"
      ],
      "text/plain": [
       "18:06:57.291 | \u001b[36mINFO\u001b[0m    | Task run 'write_local-f322d1be-0' - Finished in state \u001b[32mCompleted\u001b[0m()\n"
      ]
     },
     "metadata": {},
     "output_type": "display_data"
    },
    {
     "data": {
      "text/html": [
       "<pre style=\"white-space:pre;overflow-x:auto;line-height:normal;font-family:Menlo,'DejaVu Sans Mono',consolas,'Courier New',monospace\">18:06:57.329 | <span style=\"color: #008080; text-decoration-color: #008080\">INFO</span>    | Flow run<span style=\"color: #800080; text-decoration-color: #800080\"> 'refreshing-lion'</span> - Created task run 'write_gcs-1145c921-0' for task 'write_gcs'\n",
       "</pre>\n"
      ],
      "text/plain": [
       "18:06:57.329 | \u001b[36mINFO\u001b[0m    | Flow run\u001b[35m 'refreshing-lion'\u001b[0m - Created task run 'write_gcs-1145c921-0' for task 'write_gcs'\n"
      ]
     },
     "metadata": {},
     "output_type": "display_data"
    },
    {
     "data": {
      "text/html": [
       "<pre style=\"white-space:pre;overflow-x:auto;line-height:normal;font-family:Menlo,'DejaVu Sans Mono',consolas,'Courier New',monospace\">18:06:57.330 | <span style=\"color: #008080; text-decoration-color: #008080\">INFO</span>    | Flow run<span style=\"color: #800080; text-decoration-color: #800080\"> 'refreshing-lion'</span> - Executing 'write_gcs-1145c921-0' immediately...\n",
       "</pre>\n"
      ],
      "text/plain": [
       "18:06:57.330 | \u001b[36mINFO\u001b[0m    | Flow run\u001b[35m 'refreshing-lion'\u001b[0m - Executing 'write_gcs-1145c921-0' immediately...\n"
      ]
     },
     "metadata": {},
     "output_type": "display_data"
    },
    {
     "data": {
      "text/html": [
       "<pre style=\"white-space:pre;overflow-x:auto;line-height:normal;font-family:Menlo,'DejaVu Sans Mono',consolas,'Courier New',monospace\">18:06:57.507 | <span style=\"color: #008080; text-decoration-color: #008080\">INFO</span>    | Task run 'write_gcs-1145c921-0' - Getting bucket 'dtc_data_lake_esoteric-pen-376110'.\n",
       "</pre>\n"
      ],
      "text/plain": [
       "18:06:57.507 | \u001b[36mINFO\u001b[0m    | Task run 'write_gcs-1145c921-0' - Getting bucket 'dtc_data_lake_esoteric-pen-376110'.\n"
      ]
     },
     "metadata": {},
     "output_type": "display_data"
    },
    {
     "data": {
      "text/html": [
       "<pre style=\"white-space:pre;overflow-x:auto;line-height:normal;font-family:Menlo,'DejaVu Sans Mono',consolas,'Courier New',monospace\">18:06:57.948 | <span style=\"color: #008080; text-decoration-color: #008080\">INFO</span>    | Task run 'write_gcs-1145c921-0' - Uploading from PosixPath('data/green/green_tripdata_2020-01.parquet') to the bucket 'dtc_data_lake_esoteric-pen-376110' path 'data/green/green_tripdata_2020-01.parquet'.\n",
       "</pre>\n"
      ],
      "text/plain": [
       "18:06:57.948 | \u001b[36mINFO\u001b[0m    | Task run 'write_gcs-1145c921-0' - Uploading from PosixPath('data/green/green_tripdata_2020-01.parquet') to the bucket 'dtc_data_lake_esoteric-pen-376110' path 'data/green/green_tripdata_2020-01.parquet'.\n"
      ]
     },
     "metadata": {},
     "output_type": "display_data"
    },
    {
     "data": {
      "text/html": [
       "<pre style=\"white-space:pre;overflow-x:auto;line-height:normal;font-family:Menlo,'DejaVu Sans Mono',consolas,'Courier New',monospace\">18:06:59.024 | <span style=\"color: #008080; text-decoration-color: #008080\">INFO</span>    | Task run 'write_gcs-1145c921-0' - Finished in state <span style=\"color: #008000; text-decoration-color: #008000\">Completed</span>()\n",
       "</pre>\n"
      ],
      "text/plain": [
       "18:06:59.024 | \u001b[36mINFO\u001b[0m    | Task run 'write_gcs-1145c921-0' - Finished in state \u001b[32mCompleted\u001b[0m()\n"
      ]
     },
     "metadata": {},
     "output_type": "display_data"
    },
    {
     "data": {
      "text/html": [
       "<pre style=\"white-space:pre;overflow-x:auto;line-height:normal;font-family:Menlo,'DejaVu Sans Mono',consolas,'Courier New',monospace\">18:06:59.053 | <span style=\"color: #008080; text-decoration-color: #008080\">INFO</span>    | Flow run<span style=\"color: #800080; text-decoration-color: #800080\"> 'refreshing-lion'</span> - Finished in state <span style=\"color: #008000; text-decoration-color: #008000\">Completed</span>('All states completed.')\n",
       "</pre>\n"
      ],
      "text/plain": [
       "18:06:59.053 | \u001b[36mINFO\u001b[0m    | Flow run\u001b[35m 'refreshing-lion'\u001b[0m - Finished in state \u001b[32mCompleted\u001b[0m('All states completed.')\n"
      ]
     },
     "metadata": {},
     "output_type": "display_data"
    }
   ],
   "source": [
    "@task(retries=3)\n",
    "def fetch(dataset_url: str) -> pd.DataFrame:\n",
    "    \"\"\"Read taxi data from web into pandas DataFrame\"\"\"\n",
    "    # if randint(0, 1) > 0:\n",
    "    #     raise Exception\n",
    "\n",
    "    df = pd.read_csv(dataset_url)\n",
    "    return df\n",
    "\n",
    "\n",
    "@task(log_prints=True)\n",
    "def clean(df: pd.DataFrame, color: str) -> pd.DataFrame:\n",
    "    \"\"\"Fix dtype issues\"\"\"\n",
    "\n",
    "    if color == \"green\":\n",
    "        df[\"lpep_pickup_datetime\"] = pd.to_datetime(df[\"lpep_pickup_datetime\"])\n",
    "        df[\"lpep_dropoff_datetime\"] = pd.to_datetime(df[\"lpep_dropoff_datetime\"])\n",
    "        print(df.head(2))\n",
    "        print(f\"columns: {df.dtypes}\")\n",
    "        print(f\"rows: {len(df)}\")\n",
    "        return df\n",
    "    elif(color == \"yellow\"):\n",
    "        df[\"tpep_pickup_datetime\"] = pd.to_datetime(df[\"tpep_pickup_datetime\"])\n",
    "        df[\"tpep_dropoff_datetime\"] = pd.to_datetime(df[\"tpep_dropoff_datetime\"])\n",
    "        print(df.head(2))\n",
    "        print(f\"columns: {df.dtypes}\")\n",
    "        print(f\"rows: {len(df)}\")\n",
    "        return df\n",
    "\n",
    "@task()\n",
    "def write_local(df: pd.DataFrame, color: str, dataset_file: str) -> Path:\n",
    "    \"\"\"Write DataFrame out locally as parquet file\"\"\"\n",
    "    mydir = (f\"data/{color}/\")\n",
    "    check_folder = os.path.isdir(mydir)\n",
    "    \n",
    "    if not check_folder:\n",
    "        os.makedirs(mydir)\n",
    "        print(\"created folder:\", mydir)\n",
    "    else:\n",
    "        print(mydir, \"Folder already exists\")\n",
    "        \n",
    "    path = Path(f\"data/{color}/{dataset_file}.parquet\")\n",
    "    df.to_parquet(path, compression=\"gzip\")\n",
    "    return path\n",
    "\n",
    "\n",
    "@task()\n",
    "def write_gcs(path: Path) -> None:\n",
    "    \"\"\"Upload local parquet file to GCS\"\"\"\n",
    "    gcs_block = GcsBucket.load(\"zoom-gcs\")\n",
    "    gcs_block.upload_from_path(from_path=path, to_path=path)\n",
    "    return\n",
    "\n",
    "\n",
    "@flow()\n",
    "def etl_web_to_gcs(months: list[int] = [1], year: int = 2020, color: str = \"green\") -> None:\n",
    "    \"\"\"The main ETL function\"\"\"\n",
    "\n",
    "    for month in months:\n",
    "        dataset_file = f\"{color}_tripdata_{year}-{month:02}\"\n",
    "        dataset_url = f\"https://github.com/DataTalksClub/nyc-tlc-data/releases/download/{color}/{dataset_file}.csv.gz\"\n",
    "\n",
    "        df = fetch(dataset_url)\n",
    "        df_clean = clean(df, color)\n",
    "        path = write_local(df_clean, color, dataset_file)\n",
    "        write_gcs(path)\n",
    "\n",
    "if __name__ == \"__main__\":\n",
    "    etl_web_to_gcs()"
   ]
  },
  {
   "attachments": {},
   "cell_type": "markdown",
   "id": "c7c42117",
   "metadata": {},
   "source": [
    "# Ans = 447770"
   ]
  },
  {
   "attachments": {},
   "cell_type": "markdown",
   "id": "23f916cb",
   "metadata": {},
   "source": [
    "# Cron\n",
    "## Question 2. Scheduling with Cron\n",
    "\n",
    "Cron is a common scheduling specification for workflows. \n",
    "\n",
    "Using the flow in `etl_web_to_gcs.py`, create a deployment to run on the first of every month at 5am UTC. What’s the cron schedule for that?\n",
    "\n",
    "- `0 5 1 * *`\n",
    "- `0 0 5 1 *`\n",
    "- `5 * 1 0 *`\n",
    "- `* * 5 1 0`\n",
    "\n",
    "![Alt text](images/cron_v.png \"Cron\")\n",
    "![Alt text](images/cron_u.png \"Cron\")\n",
    "\n",
    "Courtesy of https://crontab.guru/#0_5_1_1-12_*\n",
    "\n",
    "# Ans = `0 5 1 * *`"
   ]
  },
  {
   "attachments": {},
   "cell_type": "markdown",
   "id": "6354062c",
   "metadata": {},
   "source": [
    "## Question 3. Loading data to BigQuery \n",
    "\n",
    "Using `etl_gcs_to_bq.py` as a starting point, modify the script for extracting data from GCS and loading it into BigQuery. This new script should not fill or remove rows with missing values. (The script is really just doing the E and L parts of ETL).\n",
    "\n",
    "The main flow should print the total number of rows processed by the script. Set the flow decorator to log the print statement.\n",
    "\n",
    "Parametrize the entrypoint flow to accept a list of months, a year, and a taxi color. \n",
    "\n",
    "Make any other necessary changes to the code for it to function as required.\n",
    "\n",
    "Create a deployment for this flow to run in a local subprocess with local flow code storage (the defaults).\n",
    "\n",
    "Make sure you have the parquet data files for Yellow taxi data for Feb. 2019 and March 2019 loaded in GCS. Run your deployment to append this data to your BiqQuery table. How many rows did your flow code process?\n",
    "\n",
    "- 14,851,920\n",
    "- 12,282,990\n",
    "- 27,235,753\n",
    "- 11,338,483"
   ]
  },
  {
   "cell_type": "code",
   "execution_count": 5,
   "id": "11c614d7",
   "metadata": {},
   "outputs": [
    {
     "data": {
      "text/html": [
       "<pre style=\"white-space:pre;overflow-x:auto;line-height:normal;font-family:Menlo,'DejaVu Sans Mono',consolas,'Courier New',monospace\">18:07:10.727 | <span style=\"color: #008080; text-decoration-color: #008080\">INFO</span>    | prefect.engine - Created flow run<span style=\"color: #800080; text-decoration-color: #800080\"> 'fair-bullfinch'</span> for flow<span style=\"color: #800080; text-decoration-color: #800080; font-weight: bold\"> 'etl-web-to-gcs'</span>\n",
       "</pre>\n"
      ],
      "text/plain": [
       "18:07:10.727 | \u001b[36mINFO\u001b[0m    | prefect.engine - Created flow run\u001b[35m 'fair-bullfinch'\u001b[0m for flow\u001b[1;35m 'etl-web-to-gcs'\u001b[0m\n"
      ]
     },
     "metadata": {},
     "output_type": "display_data"
    },
    {
     "data": {
      "text/html": [
       "<pre style=\"white-space:pre;overflow-x:auto;line-height:normal;font-family:Menlo,'DejaVu Sans Mono',consolas,'Courier New',monospace\">18:07:10.891 | <span style=\"color: #008080; text-decoration-color: #008080\">INFO</span>    | Flow run<span style=\"color: #800080; text-decoration-color: #800080\"> 'fair-bullfinch'</span> - Created task run 'fetch-b4598a4a-0' for task 'fetch'\n",
       "</pre>\n"
      ],
      "text/plain": [
       "18:07:10.891 | \u001b[36mINFO\u001b[0m    | Flow run\u001b[35m 'fair-bullfinch'\u001b[0m - Created task run 'fetch-b4598a4a-0' for task 'fetch'\n"
      ]
     },
     "metadata": {},
     "output_type": "display_data"
    },
    {
     "data": {
      "text/html": [
       "<pre style=\"white-space:pre;overflow-x:auto;line-height:normal;font-family:Menlo,'DejaVu Sans Mono',consolas,'Courier New',monospace\">18:07:10.893 | <span style=\"color: #008080; text-decoration-color: #008080\">INFO</span>    | Flow run<span style=\"color: #800080; text-decoration-color: #800080\"> 'fair-bullfinch'</span> - Executing 'fetch-b4598a4a-0' immediately...\n",
       "</pre>\n"
      ],
      "text/plain": [
       "18:07:10.893 | \u001b[36mINFO\u001b[0m    | Flow run\u001b[35m 'fair-bullfinch'\u001b[0m - Executing 'fetch-b4598a4a-0' immediately...\n"
      ]
     },
     "metadata": {},
     "output_type": "display_data"
    },
    {
     "data": {
      "text/html": [
       "<pre style=\"white-space:pre;overflow-x:auto;line-height:normal;font-family:Menlo,'DejaVu Sans Mono',consolas,'Courier New',monospace\">18:07:43.482 | <span style=\"color: #008080; text-decoration-color: #008080\">INFO</span>    | Task run 'fetch-b4598a4a-0' - Finished in state <span style=\"color: #008000; text-decoration-color: #008000\">Completed</span>()\n",
       "</pre>\n"
      ],
      "text/plain": [
       "18:07:43.482 | \u001b[36mINFO\u001b[0m    | Task run 'fetch-b4598a4a-0' - Finished in state \u001b[32mCompleted\u001b[0m()\n"
      ]
     },
     "metadata": {},
     "output_type": "display_data"
    },
    {
     "data": {
      "text/html": [
       "<pre style=\"white-space:pre;overflow-x:auto;line-height:normal;font-family:Menlo,'DejaVu Sans Mono',consolas,'Courier New',monospace\">18:07:43.511 | <span style=\"color: #008080; text-decoration-color: #008080\">INFO</span>    | Flow run<span style=\"color: #800080; text-decoration-color: #800080\"> 'fair-bullfinch'</span> - Created task run 'clean-b9fd7e03-0' for task 'clean'\n",
       "</pre>\n"
      ],
      "text/plain": [
       "18:07:43.511 | \u001b[36mINFO\u001b[0m    | Flow run\u001b[35m 'fair-bullfinch'\u001b[0m - Created task run 'clean-b9fd7e03-0' for task 'clean'\n"
      ]
     },
     "metadata": {},
     "output_type": "display_data"
    },
    {
     "data": {
      "text/html": [
       "<pre style=\"white-space:pre;overflow-x:auto;line-height:normal;font-family:Menlo,'DejaVu Sans Mono',consolas,'Courier New',monospace\">18:07:43.512 | <span style=\"color: #008080; text-decoration-color: #008080\">INFO</span>    | Flow run<span style=\"color: #800080; text-decoration-color: #800080\"> 'fair-bullfinch'</span> - Executing 'clean-b9fd7e03-0' immediately...\n",
       "</pre>\n"
      ],
      "text/plain": [
       "18:07:43.512 | \u001b[36mINFO\u001b[0m    | Flow run\u001b[35m 'fair-bullfinch'\u001b[0m - Executing 'clean-b9fd7e03-0' immediately...\n"
      ]
     },
     "metadata": {},
     "output_type": "display_data"
    },
    {
     "data": {
      "text/html": [
       "<pre style=\"white-space:pre;overflow-x:auto;line-height:normal;font-family:Menlo,'DejaVu Sans Mono',consolas,'Courier New',monospace\">18:07:45.685 | <span style=\"color: #008080; text-decoration-color: #008080\">INFO</span>    | Task run 'clean-b9fd7e03-0' -    VendorID tpep_pickup_datetime tpep_dropoff_datetime  passenger_count  \\\n",
       "0         1  2019-02-01 00:59:04   2019-02-01 01:07:27                1   \n",
       "1         1  2019-02-01 00:33:09   2019-02-01 01:03:58                1   \n",
       "\n",
       "   trip_distance  RatecodeID store_and_fwd_flag  PULocationID  DOLocationID  \\\n",
       "0            2.1           1                  N            48           234   \n",
       "1            9.8           1                  N           230            93   \n",
       "\n",
       "   payment_type  fare_amount  extra  mta_tax  tip_amount  tolls_amount  \\\n",
       "0             1          9.0    0.5      0.5         2.0           0.0   \n",
       "1             2         32.0    0.5      0.5         0.0           0.0   \n",
       "\n",
       "   improvement_surcharge  total_amount  congestion_surcharge  \n",
       "0                    0.3          12.3                   0.0  \n",
       "1                    0.3          33.3                   0.0\n",
       "</pre>\n"
      ],
      "text/plain": [
       "18:07:45.685 | \u001b[36mINFO\u001b[0m    | Task run 'clean-b9fd7e03-0' -    VendorID tpep_pickup_datetime tpep_dropoff_datetime  passenger_count  \\\n",
       "0         1  2019-02-01 00:59:04   2019-02-01 01:07:27                1   \n",
       "1         1  2019-02-01 00:33:09   2019-02-01 01:03:58                1   \n",
       "\n",
       "   trip_distance  RatecodeID store_and_fwd_flag  PULocationID  DOLocationID  \\\n",
       "0            2.1           1                  N            48           234   \n",
       "1            9.8           1                  N           230            93   \n",
       "\n",
       "   payment_type  fare_amount  extra  mta_tax  tip_amount  tolls_amount  \\\n",
       "0             1          9.0    0.5      0.5         2.0           0.0   \n",
       "1             2         32.0    0.5      0.5         0.0           0.0   \n",
       "\n",
       "   improvement_surcharge  total_amount  congestion_surcharge  \n",
       "0                    0.3          12.3                   0.0  \n",
       "1                    0.3          33.3                   0.0\n"
      ]
     },
     "metadata": {},
     "output_type": "display_data"
    },
    {
     "data": {
      "text/html": [
       "<pre style=\"white-space:pre;overflow-x:auto;line-height:normal;font-family:Menlo,'DejaVu Sans Mono',consolas,'Courier New',monospace\">18:07:45.688 | <span style=\"color: #008080; text-decoration-color: #008080\">INFO</span>    | Task run 'clean-b9fd7e03-0' - columns: VendorID                          int64\n",
       "tpep_pickup_datetime     datetime64[ns]\n",
       "tpep_dropoff_datetime    datetime64[ns]\n",
       "passenger_count                   int64\n",
       "trip_distance                   float64\n",
       "RatecodeID                        int64\n",
       "store_and_fwd_flag               object\n",
       "PULocationID                      int64\n",
       "DOLocationID                      int64\n",
       "payment_type                      int64\n",
       "fare_amount                     float64\n",
       "extra                           float64\n",
       "mta_tax                         float64\n",
       "tip_amount                      float64\n",
       "tolls_amount                    float64\n",
       "improvement_surcharge           float64\n",
       "total_amount                    float64\n",
       "congestion_surcharge            float64\n",
       "dtype: object\n",
       "</pre>\n"
      ],
      "text/plain": [
       "18:07:45.688 | \u001b[36mINFO\u001b[0m    | Task run 'clean-b9fd7e03-0' - columns: VendorID                          int64\n",
       "tpep_pickup_datetime     datetime64[ns]\n",
       "tpep_dropoff_datetime    datetime64[ns]\n",
       "passenger_count                   int64\n",
       "trip_distance                   float64\n",
       "RatecodeID                        int64\n",
       "store_and_fwd_flag               object\n",
       "PULocationID                      int64\n",
       "DOLocationID                      int64\n",
       "payment_type                      int64\n",
       "fare_amount                     float64\n",
       "extra                           float64\n",
       "mta_tax                         float64\n",
       "tip_amount                      float64\n",
       "tolls_amount                    float64\n",
       "improvement_surcharge           float64\n",
       "total_amount                    float64\n",
       "congestion_surcharge            float64\n",
       "dtype: object\n"
      ]
     },
     "metadata": {},
     "output_type": "display_data"
    },
    {
     "data": {
      "text/html": [
       "<pre style=\"white-space:pre;overflow-x:auto;line-height:normal;font-family:Menlo,'DejaVu Sans Mono',consolas,'Courier New',monospace\">18:07:45.690 | <span style=\"color: #008080; text-decoration-color: #008080\">INFO</span>    | Task run 'clean-b9fd7e03-0' - rows: 7019375\n",
       "</pre>\n"
      ],
      "text/plain": [
       "18:07:45.690 | \u001b[36mINFO\u001b[0m    | Task run 'clean-b9fd7e03-0' - rows: 7019375\n"
      ]
     },
     "metadata": {},
     "output_type": "display_data"
    },
    {
     "data": {
      "text/html": [
       "<pre style=\"white-space:pre;overflow-x:auto;line-height:normal;font-family:Menlo,'DejaVu Sans Mono',consolas,'Courier New',monospace\">18:07:45.713 | <span style=\"color: #008080; text-decoration-color: #008080\">INFO</span>    | Task run 'clean-b9fd7e03-0' - Finished in state <span style=\"color: #008000; text-decoration-color: #008000\">Completed</span>()\n",
       "</pre>\n"
      ],
      "text/plain": [
       "18:07:45.713 | \u001b[36mINFO\u001b[0m    | Task run 'clean-b9fd7e03-0' - Finished in state \u001b[32mCompleted\u001b[0m()\n"
      ]
     },
     "metadata": {},
     "output_type": "display_data"
    },
    {
     "data": {
      "text/html": [
       "<pre style=\"white-space:pre;overflow-x:auto;line-height:normal;font-family:Menlo,'DejaVu Sans Mono',consolas,'Courier New',monospace\">18:07:45.745 | <span style=\"color: #008080; text-decoration-color: #008080\">INFO</span>    | Flow run<span style=\"color: #800080; text-decoration-color: #800080\"> 'fair-bullfinch'</span> - Created task run 'write_local-f322d1be-0' for task 'write_local'\n",
       "</pre>\n"
      ],
      "text/plain": [
       "18:07:45.745 | \u001b[36mINFO\u001b[0m    | Flow run\u001b[35m 'fair-bullfinch'\u001b[0m - Created task run 'write_local-f322d1be-0' for task 'write_local'\n"
      ]
     },
     "metadata": {},
     "output_type": "display_data"
    },
    {
     "data": {
      "text/html": [
       "<pre style=\"white-space:pre;overflow-x:auto;line-height:normal;font-family:Menlo,'DejaVu Sans Mono',consolas,'Courier New',monospace\">18:07:45.748 | <span style=\"color: #008080; text-decoration-color: #008080\">INFO</span>    | Flow run<span style=\"color: #800080; text-decoration-color: #800080\"> 'fair-bullfinch'</span> - Executing 'write_local-f322d1be-0' immediately...\n",
       "</pre>\n"
      ],
      "text/plain": [
       "18:07:45.748 | \u001b[36mINFO\u001b[0m    | Flow run\u001b[35m 'fair-bullfinch'\u001b[0m - Executing 'write_local-f322d1be-0' immediately...\n"
      ]
     },
     "metadata": {},
     "output_type": "display_data"
    },
    {
     "name": "stdout",
     "output_type": "stream",
     "text": [
      "data/yellow/ Folder already exists\n"
     ]
    },
    {
     "data": {
      "text/html": [
       "<pre style=\"white-space:pre;overflow-x:auto;line-height:normal;font-family:Menlo,'DejaVu Sans Mono',consolas,'Courier New',monospace\">18:08:03.708 | <span style=\"color: #008080; text-decoration-color: #008080\">INFO</span>    | Task run 'write_local-f322d1be-0' - Finished in state <span style=\"color: #008000; text-decoration-color: #008000\">Completed</span>()\n",
       "</pre>\n"
      ],
      "text/plain": [
       "18:08:03.708 | \u001b[36mINFO\u001b[0m    | Task run 'write_local-f322d1be-0' - Finished in state \u001b[32mCompleted\u001b[0m()\n"
      ]
     },
     "metadata": {},
     "output_type": "display_data"
    },
    {
     "data": {
      "text/html": [
       "<pre style=\"white-space:pre;overflow-x:auto;line-height:normal;font-family:Menlo,'DejaVu Sans Mono',consolas,'Courier New',monospace\">18:08:03.736 | <span style=\"color: #008080; text-decoration-color: #008080\">INFO</span>    | Flow run<span style=\"color: #800080; text-decoration-color: #800080\"> 'fair-bullfinch'</span> - Created task run 'write_gcs-1145c921-0' for task 'write_gcs'\n",
       "</pre>\n"
      ],
      "text/plain": [
       "18:08:03.736 | \u001b[36mINFO\u001b[0m    | Flow run\u001b[35m 'fair-bullfinch'\u001b[0m - Created task run 'write_gcs-1145c921-0' for task 'write_gcs'\n"
      ]
     },
     "metadata": {},
     "output_type": "display_data"
    },
    {
     "data": {
      "text/html": [
       "<pre style=\"white-space:pre;overflow-x:auto;line-height:normal;font-family:Menlo,'DejaVu Sans Mono',consolas,'Courier New',monospace\">18:08:03.738 | <span style=\"color: #008080; text-decoration-color: #008080\">INFO</span>    | Flow run<span style=\"color: #800080; text-decoration-color: #800080\"> 'fair-bullfinch'</span> - Executing 'write_gcs-1145c921-0' immediately...\n",
       "</pre>\n"
      ],
      "text/plain": [
       "18:08:03.738 | \u001b[36mINFO\u001b[0m    | Flow run\u001b[35m 'fair-bullfinch'\u001b[0m - Executing 'write_gcs-1145c921-0' immediately...\n"
      ]
     },
     "metadata": {},
     "output_type": "display_data"
    },
    {
     "data": {
      "text/html": [
       "<pre style=\"white-space:pre;overflow-x:auto;line-height:normal;font-family:Menlo,'DejaVu Sans Mono',consolas,'Courier New',monospace\">18:08:03.906 | <span style=\"color: #008080; text-decoration-color: #008080\">INFO</span>    | Task run 'write_gcs-1145c921-0' - Getting bucket 'dtc_data_lake_esoteric-pen-376110'.\n",
       "</pre>\n"
      ],
      "text/plain": [
       "18:08:03.906 | \u001b[36mINFO\u001b[0m    | Task run 'write_gcs-1145c921-0' - Getting bucket 'dtc_data_lake_esoteric-pen-376110'.\n"
      ]
     },
     "metadata": {},
     "output_type": "display_data"
    },
    {
     "data": {
      "text/html": [
       "<pre style=\"white-space:pre;overflow-x:auto;line-height:normal;font-family:Menlo,'DejaVu Sans Mono',consolas,'Courier New',monospace\">18:08:04.218 | <span style=\"color: #008080; text-decoration-color: #008080\">INFO</span>    | Task run 'write_gcs-1145c921-0' - Uploading from PosixPath('data/yellow/yellow_tripdata_2019-02.parquet') to the bucket 'dtc_data_lake_esoteric-pen-376110' path 'data/yellow/yellow_tripdata_2019-02.parquet'.\n",
       "</pre>\n"
      ],
      "text/plain": [
       "18:08:04.218 | \u001b[36mINFO\u001b[0m    | Task run 'write_gcs-1145c921-0' - Uploading from PosixPath('data/yellow/yellow_tripdata_2019-02.parquet') to the bucket 'dtc_data_lake_esoteric-pen-376110' path 'data/yellow/yellow_tripdata_2019-02.parquet'.\n"
      ]
     },
     "metadata": {},
     "output_type": "display_data"
    },
    {
     "data": {
      "text/html": [
       "<pre style=\"white-space:pre;overflow-x:auto;line-height:normal;font-family:Menlo,'DejaVu Sans Mono',consolas,'Courier New',monospace\">18:08:17.787 | <span style=\"color: #008080; text-decoration-color: #008080\">INFO</span>    | Task run 'write_gcs-1145c921-0' - Finished in state <span style=\"color: #008000; text-decoration-color: #008000\">Completed</span>()\n",
       "</pre>\n"
      ],
      "text/plain": [
       "18:08:17.787 | \u001b[36mINFO\u001b[0m    | Task run 'write_gcs-1145c921-0' - Finished in state \u001b[32mCompleted\u001b[0m()\n"
      ]
     },
     "metadata": {},
     "output_type": "display_data"
    },
    {
     "data": {
      "text/html": [
       "<pre style=\"white-space:pre;overflow-x:auto;line-height:normal;font-family:Menlo,'DejaVu Sans Mono',consolas,'Courier New',monospace\">18:08:17.810 | <span style=\"color: #008080; text-decoration-color: #008080\">INFO</span>    | Flow run<span style=\"color: #800080; text-decoration-color: #800080\"> 'fair-bullfinch'</span> - Created task run 'fetch-b4598a4a-1' for task 'fetch'\n",
       "</pre>\n"
      ],
      "text/plain": [
       "18:08:17.810 | \u001b[36mINFO\u001b[0m    | Flow run\u001b[35m 'fair-bullfinch'\u001b[0m - Created task run 'fetch-b4598a4a-1' for task 'fetch'\n"
      ]
     },
     "metadata": {},
     "output_type": "display_data"
    },
    {
     "data": {
      "text/html": [
       "<pre style=\"white-space:pre;overflow-x:auto;line-height:normal;font-family:Menlo,'DejaVu Sans Mono',consolas,'Courier New',monospace\">18:08:17.811 | <span style=\"color: #008080; text-decoration-color: #008080\">INFO</span>    | Flow run<span style=\"color: #800080; text-decoration-color: #800080\"> 'fair-bullfinch'</span> - Executing 'fetch-b4598a4a-1' immediately...\n",
       "</pre>\n"
      ],
      "text/plain": [
       "18:08:17.811 | \u001b[36mINFO\u001b[0m    | Flow run\u001b[35m 'fair-bullfinch'\u001b[0m - Executing 'fetch-b4598a4a-1' immediately...\n"
      ]
     },
     "metadata": {},
     "output_type": "display_data"
    },
    {
     "data": {
      "text/html": [
       "<pre style=\"white-space:pre;overflow-x:auto;line-height:normal;font-family:Menlo,'DejaVu Sans Mono',consolas,'Courier New',monospace\">18:08:56.525 | <span style=\"color: #008080; text-decoration-color: #008080\">INFO</span>    | Task run 'fetch-b4598a4a-1' - Finished in state <span style=\"color: #008000; text-decoration-color: #008000\">Completed</span>()\n",
       "</pre>\n"
      ],
      "text/plain": [
       "18:08:56.525 | \u001b[36mINFO\u001b[0m    | Task run 'fetch-b4598a4a-1' - Finished in state \u001b[32mCompleted\u001b[0m()\n"
      ]
     },
     "metadata": {},
     "output_type": "display_data"
    },
    {
     "data": {
      "text/html": [
       "<pre style=\"white-space:pre;overflow-x:auto;line-height:normal;font-family:Menlo,'DejaVu Sans Mono',consolas,'Courier New',monospace\">18:08:56.553 | <span style=\"color: #008080; text-decoration-color: #008080\">INFO</span>    | Flow run<span style=\"color: #800080; text-decoration-color: #800080\"> 'fair-bullfinch'</span> - Created task run 'clean-b9fd7e03-1' for task 'clean'\n",
       "</pre>\n"
      ],
      "text/plain": [
       "18:08:56.553 | \u001b[36mINFO\u001b[0m    | Flow run\u001b[35m 'fair-bullfinch'\u001b[0m - Created task run 'clean-b9fd7e03-1' for task 'clean'\n"
      ]
     },
     "metadata": {},
     "output_type": "display_data"
    },
    {
     "data": {
      "text/html": [
       "<pre style=\"white-space:pre;overflow-x:auto;line-height:normal;font-family:Menlo,'DejaVu Sans Mono',consolas,'Courier New',monospace\">18:08:56.555 | <span style=\"color: #008080; text-decoration-color: #008080\">INFO</span>    | Flow run<span style=\"color: #800080; text-decoration-color: #800080\"> 'fair-bullfinch'</span> - Executing 'clean-b9fd7e03-1' immediately...\n",
       "</pre>\n"
      ],
      "text/plain": [
       "18:08:56.555 | \u001b[36mINFO\u001b[0m    | Flow run\u001b[35m 'fair-bullfinch'\u001b[0m - Executing 'clean-b9fd7e03-1' immediately...\n"
      ]
     },
     "metadata": {},
     "output_type": "display_data"
    },
    {
     "data": {
      "text/html": [
       "<pre style=\"white-space:pre;overflow-x:auto;line-height:normal;font-family:Menlo,'DejaVu Sans Mono',consolas,'Courier New',monospace\">18:08:58.948 | <span style=\"color: #008080; text-decoration-color: #008080\">INFO</span>    | Task run 'clean-b9fd7e03-1' -    VendorID tpep_pickup_datetime tpep_dropoff_datetime  passenger_count  \\\n",
       "0         1  2019-03-01 00:24:41   2019-03-01 00:25:31                1   \n",
       "1         1  2019-03-01 00:25:27   2019-03-01 00:36:37                2   \n",
       "\n",
       "   trip_distance  RatecodeID store_and_fwd_flag  PULocationID  DOLocationID  \\\n",
       "0            0.0           1                  N           145           145   \n",
       "1            3.7           1                  N            95           130   \n",
       "\n",
       "   payment_type  fare_amount  extra  mta_tax  tip_amount  tolls_amount  \\\n",
       "0             2          2.5    0.5      0.5         0.0           0.0   \n",
       "1             1         13.0    0.5      0.5         0.7           0.0   \n",
       "\n",
       "   improvement_surcharge  total_amount  congestion_surcharge  \n",
       "0                    0.3           3.8                   0.0  \n",
       "1                    0.3          15.0                   0.0\n",
       "</pre>\n"
      ],
      "text/plain": [
       "18:08:58.948 | \u001b[36mINFO\u001b[0m    | Task run 'clean-b9fd7e03-1' -    VendorID tpep_pickup_datetime tpep_dropoff_datetime  passenger_count  \\\n",
       "0         1  2019-03-01 00:24:41   2019-03-01 00:25:31                1   \n",
       "1         1  2019-03-01 00:25:27   2019-03-01 00:36:37                2   \n",
       "\n",
       "   trip_distance  RatecodeID store_and_fwd_flag  PULocationID  DOLocationID  \\\n",
       "0            0.0           1                  N           145           145   \n",
       "1            3.7           1                  N            95           130   \n",
       "\n",
       "   payment_type  fare_amount  extra  mta_tax  tip_amount  tolls_amount  \\\n",
       "0             2          2.5    0.5      0.5         0.0           0.0   \n",
       "1             1         13.0    0.5      0.5         0.7           0.0   \n",
       "\n",
       "   improvement_surcharge  total_amount  congestion_surcharge  \n",
       "0                    0.3           3.8                   0.0  \n",
       "1                    0.3          15.0                   0.0\n"
      ]
     },
     "metadata": {},
     "output_type": "display_data"
    },
    {
     "data": {
      "text/html": [
       "<pre style=\"white-space:pre;overflow-x:auto;line-height:normal;font-family:Menlo,'DejaVu Sans Mono',consolas,'Courier New',monospace\">18:08:58.952 | <span style=\"color: #008080; text-decoration-color: #008080\">INFO</span>    | Task run 'clean-b9fd7e03-1' - columns: VendorID                          int64\n",
       "tpep_pickup_datetime     datetime64[ns]\n",
       "tpep_dropoff_datetime    datetime64[ns]\n",
       "passenger_count                   int64\n",
       "trip_distance                   float64\n",
       "RatecodeID                        int64\n",
       "store_and_fwd_flag               object\n",
       "PULocationID                      int64\n",
       "DOLocationID                      int64\n",
       "payment_type                      int64\n",
       "fare_amount                     float64\n",
       "extra                           float64\n",
       "mta_tax                         float64\n",
       "tip_amount                      float64\n",
       "tolls_amount                    float64\n",
       "improvement_surcharge           float64\n",
       "total_amount                    float64\n",
       "congestion_surcharge            float64\n",
       "dtype: object\n",
       "</pre>\n"
      ],
      "text/plain": [
       "18:08:58.952 | \u001b[36mINFO\u001b[0m    | Task run 'clean-b9fd7e03-1' - columns: VendorID                          int64\n",
       "tpep_pickup_datetime     datetime64[ns]\n",
       "tpep_dropoff_datetime    datetime64[ns]\n",
       "passenger_count                   int64\n",
       "trip_distance                   float64\n",
       "RatecodeID                        int64\n",
       "store_and_fwd_flag               object\n",
       "PULocationID                      int64\n",
       "DOLocationID                      int64\n",
       "payment_type                      int64\n",
       "fare_amount                     float64\n",
       "extra                           float64\n",
       "mta_tax                         float64\n",
       "tip_amount                      float64\n",
       "tolls_amount                    float64\n",
       "improvement_surcharge           float64\n",
       "total_amount                    float64\n",
       "congestion_surcharge            float64\n",
       "dtype: object\n"
      ]
     },
     "metadata": {},
     "output_type": "display_data"
    },
    {
     "data": {
      "text/html": [
       "<pre style=\"white-space:pre;overflow-x:auto;line-height:normal;font-family:Menlo,'DejaVu Sans Mono',consolas,'Courier New',monospace\">18:08:58.954 | <span style=\"color: #008080; text-decoration-color: #008080\">INFO</span>    | Task run 'clean-b9fd7e03-1' - rows: 7832545\n",
       "</pre>\n"
      ],
      "text/plain": [
       "18:08:58.954 | \u001b[36mINFO\u001b[0m    | Task run 'clean-b9fd7e03-1' - rows: 7832545\n"
      ]
     },
     "metadata": {},
     "output_type": "display_data"
    },
    {
     "data": {
      "text/html": [
       "<pre style=\"white-space:pre;overflow-x:auto;line-height:normal;font-family:Menlo,'DejaVu Sans Mono',consolas,'Courier New',monospace\">18:08:58.981 | <span style=\"color: #008080; text-decoration-color: #008080\">INFO</span>    | Task run 'clean-b9fd7e03-1' - Finished in state <span style=\"color: #008000; text-decoration-color: #008000\">Completed</span>()\n",
       "</pre>\n"
      ],
      "text/plain": [
       "18:08:58.981 | \u001b[36mINFO\u001b[0m    | Task run 'clean-b9fd7e03-1' - Finished in state \u001b[32mCompleted\u001b[0m()\n"
      ]
     },
     "metadata": {},
     "output_type": "display_data"
    },
    {
     "data": {
      "text/html": [
       "<pre style=\"white-space:pre;overflow-x:auto;line-height:normal;font-family:Menlo,'DejaVu Sans Mono',consolas,'Courier New',monospace\">18:08:59.011 | <span style=\"color: #008080; text-decoration-color: #008080\">INFO</span>    | Flow run<span style=\"color: #800080; text-decoration-color: #800080\"> 'fair-bullfinch'</span> - Created task run 'write_local-f322d1be-1' for task 'write_local'\n",
       "</pre>\n"
      ],
      "text/plain": [
       "18:08:59.011 | \u001b[36mINFO\u001b[0m    | Flow run\u001b[35m 'fair-bullfinch'\u001b[0m - Created task run 'write_local-f322d1be-1' for task 'write_local'\n"
      ]
     },
     "metadata": {},
     "output_type": "display_data"
    },
    {
     "data": {
      "text/html": [
       "<pre style=\"white-space:pre;overflow-x:auto;line-height:normal;font-family:Menlo,'DejaVu Sans Mono',consolas,'Courier New',monospace\">18:08:59.012 | <span style=\"color: #008080; text-decoration-color: #008080\">INFO</span>    | Flow run<span style=\"color: #800080; text-decoration-color: #800080\"> 'fair-bullfinch'</span> - Executing 'write_local-f322d1be-1' immediately...\n",
       "</pre>\n"
      ],
      "text/plain": [
       "18:08:59.012 | \u001b[36mINFO\u001b[0m    | Flow run\u001b[35m 'fair-bullfinch'\u001b[0m - Executing 'write_local-f322d1be-1' immediately...\n"
      ]
     },
     "metadata": {},
     "output_type": "display_data"
    },
    {
     "name": "stdout",
     "output_type": "stream",
     "text": [
      "data/yellow/ Folder already exists\n"
     ]
    },
    {
     "data": {
      "text/html": [
       "<pre style=\"white-space:pre;overflow-x:auto;line-height:normal;font-family:Menlo,'DejaVu Sans Mono',consolas,'Courier New',monospace\">18:09:19.222 | <span style=\"color: #008080; text-decoration-color: #008080\">INFO</span>    | Task run 'write_local-f322d1be-1' - Finished in state <span style=\"color: #008000; text-decoration-color: #008000\">Completed</span>()\n",
       "</pre>\n"
      ],
      "text/plain": [
       "18:09:19.222 | \u001b[36mINFO\u001b[0m    | Task run 'write_local-f322d1be-1' - Finished in state \u001b[32mCompleted\u001b[0m()\n"
      ]
     },
     "metadata": {},
     "output_type": "display_data"
    },
    {
     "data": {
      "text/html": [
       "<pre style=\"white-space:pre;overflow-x:auto;line-height:normal;font-family:Menlo,'DejaVu Sans Mono',consolas,'Courier New',monospace\">18:09:19.249 | <span style=\"color: #008080; text-decoration-color: #008080\">INFO</span>    | Flow run<span style=\"color: #800080; text-decoration-color: #800080\"> 'fair-bullfinch'</span> - Created task run 'write_gcs-1145c921-1' for task 'write_gcs'\n",
       "</pre>\n"
      ],
      "text/plain": [
       "18:09:19.249 | \u001b[36mINFO\u001b[0m    | Flow run\u001b[35m 'fair-bullfinch'\u001b[0m - Created task run 'write_gcs-1145c921-1' for task 'write_gcs'\n"
      ]
     },
     "metadata": {},
     "output_type": "display_data"
    },
    {
     "data": {
      "text/html": [
       "<pre style=\"white-space:pre;overflow-x:auto;line-height:normal;font-family:Menlo,'DejaVu Sans Mono',consolas,'Courier New',monospace\">18:09:19.252 | <span style=\"color: #008080; text-decoration-color: #008080\">INFO</span>    | Flow run<span style=\"color: #800080; text-decoration-color: #800080\"> 'fair-bullfinch'</span> - Executing 'write_gcs-1145c921-1' immediately...\n",
       "</pre>\n"
      ],
      "text/plain": [
       "18:09:19.252 | \u001b[36mINFO\u001b[0m    | Flow run\u001b[35m 'fair-bullfinch'\u001b[0m - Executing 'write_gcs-1145c921-1' immediately...\n"
      ]
     },
     "metadata": {},
     "output_type": "display_data"
    },
    {
     "data": {
      "text/html": [
       "<pre style=\"white-space:pre;overflow-x:auto;line-height:normal;font-family:Menlo,'DejaVu Sans Mono',consolas,'Courier New',monospace\">18:09:19.444 | <span style=\"color: #008080; text-decoration-color: #008080\">INFO</span>    | Task run 'write_gcs-1145c921-1' - Getting bucket 'dtc_data_lake_esoteric-pen-376110'.\n",
       "</pre>\n"
      ],
      "text/plain": [
       "18:09:19.444 | \u001b[36mINFO\u001b[0m    | Task run 'write_gcs-1145c921-1' - Getting bucket 'dtc_data_lake_esoteric-pen-376110'.\n"
      ]
     },
     "metadata": {},
     "output_type": "display_data"
    },
    {
     "data": {
      "text/html": [
       "<pre style=\"white-space:pre;overflow-x:auto;line-height:normal;font-family:Menlo,'DejaVu Sans Mono',consolas,'Courier New',monospace\">18:09:19.731 | <span style=\"color: #008080; text-decoration-color: #008080\">INFO</span>    | Task run 'write_gcs-1145c921-1' - Uploading from PosixPath('data/yellow/yellow_tripdata_2019-03.parquet') to the bucket 'dtc_data_lake_esoteric-pen-376110' path 'data/yellow/yellow_tripdata_2019-03.parquet'.\n",
       "</pre>\n"
      ],
      "text/plain": [
       "18:09:19.731 | \u001b[36mINFO\u001b[0m    | Task run 'write_gcs-1145c921-1' - Uploading from PosixPath('data/yellow/yellow_tripdata_2019-03.parquet') to the bucket 'dtc_data_lake_esoteric-pen-376110' path 'data/yellow/yellow_tripdata_2019-03.parquet'.\n"
      ]
     },
     "metadata": {},
     "output_type": "display_data"
    },
    {
     "data": {
      "text/html": [
       "<pre style=\"white-space:pre;overflow-x:auto;line-height:normal;font-family:Menlo,'DejaVu Sans Mono',consolas,'Courier New',monospace\">18:09:33.896 | <span style=\"color: #008080; text-decoration-color: #008080\">INFO</span>    | Task run 'write_gcs-1145c921-1' - Finished in state <span style=\"color: #008000; text-decoration-color: #008000\">Completed</span>()\n",
       "</pre>\n"
      ],
      "text/plain": [
       "18:09:33.896 | \u001b[36mINFO\u001b[0m    | Task run 'write_gcs-1145c921-1' - Finished in state \u001b[32mCompleted\u001b[0m()\n"
      ]
     },
     "metadata": {},
     "output_type": "display_data"
    },
    {
     "data": {
      "text/html": [
       "<pre style=\"white-space:pre;overflow-x:auto;line-height:normal;font-family:Menlo,'DejaVu Sans Mono',consolas,'Courier New',monospace\">18:09:33.926 | <span style=\"color: #008080; text-decoration-color: #008080\">INFO</span>    | Flow run<span style=\"color: #800080; text-decoration-color: #800080\"> 'fair-bullfinch'</span> - Finished in state <span style=\"color: #008000; text-decoration-color: #008000\">Completed</span>('All states completed.')\n",
       "</pre>\n"
      ],
      "text/plain": [
       "18:09:33.926 | \u001b[36mINFO\u001b[0m    | Flow run\u001b[35m 'fair-bullfinch'\u001b[0m - Finished in state \u001b[32mCompleted\u001b[0m('All states completed.')\n"
      ]
     },
     "metadata": {},
     "output_type": "display_data"
    },
    {
     "data": {
      "text/plain": [
       "[Completed(message=None, type=COMPLETED, result=         VendorID tpep_pickup_datetime tpep_dropoff_datetime  passenger_count  \\\n",
       " 0               1  2019-02-01 00:59:04   2019-02-01 01:07:27                1   \n",
       " 1               1  2019-02-01 00:33:09   2019-02-01 01:03:58                1   \n",
       " 2               1  2019-02-01 00:09:03   2019-02-01 00:09:16                1   \n",
       " 3               1  2019-02-01 00:45:38   2019-02-01 00:51:10                1   \n",
       " 4               1  2019-02-01 00:25:30   2019-02-01 00:28:14                1   \n",
       " ...           ...                  ...                   ...              ...   \n",
       " 7019370         2  2019-02-28 23:29:08   2019-02-28 23:29:11                1   \n",
       " 7019371         2  2019-02-28 22:48:47   2019-02-28 23:50:19                1   \n",
       " 7019372         2  2019-02-28 23:41:23   2019-02-28 23:42:23                1   \n",
       " 7019373         2  2019-02-28 23:12:52   2019-02-28 23:14:16                1   \n",
       " 7019374         2  2019-02-28 23:10:35   2019-02-28 23:10:37                1   \n",
       " \n",
       "          trip_distance  RatecodeID store_and_fwd_flag  PULocationID  \\\n",
       " 0                  2.1           1                  N            48   \n",
       " 1                  9.8           1                  N           230   \n",
       " 2                  0.0           1                  N           145   \n",
       " 3                  0.8           1                  N            95   \n",
       " 4                  0.8           1                  N           140   \n",
       " ...                ...         ...                ...           ...   \n",
       " 7019370            0.0           1                  N           193   \n",
       " 7019371            0.0           1                  N           141   \n",
       " 7019372            0.0           1                  N           264   \n",
       " 7019373            0.0           1                  N           264   \n",
       " 7019374            0.0           1                  N           264   \n",
       " \n",
       "          DOLocationID  payment_type  fare_amount  extra  mta_tax  tip_amount  \\\n",
       " 0                 234             1          9.0    0.5      0.5         2.0   \n",
       " 1                  93             2         32.0    0.5      0.5         0.0   \n",
       " 2                 145             2          2.5    0.5      0.5         0.0   \n",
       " 3                  95             2          5.5    0.5      0.5         0.0   \n",
       " 4                 263             2          5.0    0.5      0.5         0.0   \n",
       " ...               ...           ...          ...    ...      ...         ...   \n",
       " 7019370           193             1          0.0    0.0      0.0         0.0   \n",
       " 7019371           193             2          0.0    0.0      0.0         0.0   \n",
       " 7019372           264             1          0.0    0.0      0.0         0.0   \n",
       " 7019373           193             1          0.0    0.0      0.0         0.0   \n",
       " 7019374           264             2          0.0    0.0      0.0         0.0   \n",
       " \n",
       "          tolls_amount  improvement_surcharge  total_amount  \\\n",
       " 0                 0.0                    0.3          12.3   \n",
       " 1                 0.0                    0.3          33.3   \n",
       " 2                 0.0                    0.3           3.8   \n",
       " 3                 0.0                    0.3           6.8   \n",
       " 4                 0.0                    0.3           6.3   \n",
       " ...               ...                    ...           ...   \n",
       " 7019370           0.0                    0.0           0.0   \n",
       " 7019371           0.0                    0.0           0.0   \n",
       " 7019372           0.0                    0.0           0.0   \n",
       " 7019373           0.0                    0.0           0.0   \n",
       " 7019374           0.0                    0.0           0.0   \n",
       " \n",
       "          congestion_surcharge  \n",
       " 0                         0.0  \n",
       " 1                         0.0  \n",
       " 2                         0.0  \n",
       " 3                         0.0  \n",
       " 4                         0.0  \n",
       " ...                       ...  \n",
       " 7019370                   0.0  \n",
       " 7019371                   2.5  \n",
       " 7019372                   0.0  \n",
       " 7019373                   0.0  \n",
       " 7019374                   0.0  \n",
       " \n",
       " [7019375 rows x 18 columns]),\n",
       " Completed(message=None, type=COMPLETED, result=         VendorID tpep_pickup_datetime tpep_dropoff_datetime  passenger_count  \\\n",
       " 0               1  2019-02-01 00:59:04   2019-02-01 01:07:27                1   \n",
       " 1               1  2019-02-01 00:33:09   2019-02-01 01:03:58                1   \n",
       " 2               1  2019-02-01 00:09:03   2019-02-01 00:09:16                1   \n",
       " 3               1  2019-02-01 00:45:38   2019-02-01 00:51:10                1   \n",
       " 4               1  2019-02-01 00:25:30   2019-02-01 00:28:14                1   \n",
       " ...           ...                  ...                   ...              ...   \n",
       " 7019370         2  2019-02-28 23:29:08   2019-02-28 23:29:11                1   \n",
       " 7019371         2  2019-02-28 22:48:47   2019-02-28 23:50:19                1   \n",
       " 7019372         2  2019-02-28 23:41:23   2019-02-28 23:42:23                1   \n",
       " 7019373         2  2019-02-28 23:12:52   2019-02-28 23:14:16                1   \n",
       " 7019374         2  2019-02-28 23:10:35   2019-02-28 23:10:37                1   \n",
       " \n",
       "          trip_distance  RatecodeID store_and_fwd_flag  PULocationID  \\\n",
       " 0                  2.1           1                  N            48   \n",
       " 1                  9.8           1                  N           230   \n",
       " 2                  0.0           1                  N           145   \n",
       " 3                  0.8           1                  N            95   \n",
       " 4                  0.8           1                  N           140   \n",
       " ...                ...         ...                ...           ...   \n",
       " 7019370            0.0           1                  N           193   \n",
       " 7019371            0.0           1                  N           141   \n",
       " 7019372            0.0           1                  N           264   \n",
       " 7019373            0.0           1                  N           264   \n",
       " 7019374            0.0           1                  N           264   \n",
       " \n",
       "          DOLocationID  payment_type  fare_amount  extra  mta_tax  tip_amount  \\\n",
       " 0                 234             1          9.0    0.5      0.5         2.0   \n",
       " 1                  93             2         32.0    0.5      0.5         0.0   \n",
       " 2                 145             2          2.5    0.5      0.5         0.0   \n",
       " 3                  95             2          5.5    0.5      0.5         0.0   \n",
       " 4                 263             2          5.0    0.5      0.5         0.0   \n",
       " ...               ...           ...          ...    ...      ...         ...   \n",
       " 7019370           193             1          0.0    0.0      0.0         0.0   \n",
       " 7019371           193             2          0.0    0.0      0.0         0.0   \n",
       " 7019372           264             1          0.0    0.0      0.0         0.0   \n",
       " 7019373           193             1          0.0    0.0      0.0         0.0   \n",
       " 7019374           264             2          0.0    0.0      0.0         0.0   \n",
       " \n",
       "          tolls_amount  improvement_surcharge  total_amount  \\\n",
       " 0                 0.0                    0.3          12.3   \n",
       " 1                 0.0                    0.3          33.3   \n",
       " 2                 0.0                    0.3           3.8   \n",
       " 3                 0.0                    0.3           6.8   \n",
       " 4                 0.0                    0.3           6.3   \n",
       " ...               ...                    ...           ...   \n",
       " 7019370           0.0                    0.0           0.0   \n",
       " 7019371           0.0                    0.0           0.0   \n",
       " 7019372           0.0                    0.0           0.0   \n",
       " 7019373           0.0                    0.0           0.0   \n",
       " 7019374           0.0                    0.0           0.0   \n",
       " \n",
       "          congestion_surcharge  \n",
       " 0                         0.0  \n",
       " 1                         0.0  \n",
       " 2                         0.0  \n",
       " 3                         0.0  \n",
       " 4                         0.0  \n",
       " ...                       ...  \n",
       " 7019370                   0.0  \n",
       " 7019371                   2.5  \n",
       " 7019372                   0.0  \n",
       " 7019373                   0.0  \n",
       " 7019374                   0.0  \n",
       " \n",
       " [7019375 rows x 18 columns]),\n",
       " Completed(message=None, type=COMPLETED, result=PosixPath('data/yellow/yellow_tripdata_2019-02.parquet')),\n",
       " Completed(message=None, type=COMPLETED, result=LiteralResult(type='literal', value=None)),\n",
       " Completed(message=None, type=COMPLETED, result=         VendorID tpep_pickup_datetime tpep_dropoff_datetime  passenger_count  \\\n",
       " 0               1  2019-03-01 00:24:41   2019-03-01 00:25:31                1   \n",
       " 1               1  2019-03-01 00:25:27   2019-03-01 00:36:37                2   \n",
       " 2               1  2019-03-01 00:05:21   2019-03-01 00:38:23                1   \n",
       " 3               1  2019-03-01 00:48:55   2019-03-01 01:06:03                1   \n",
       " 4               1  2019-03-01 00:11:42   2019-03-01 00:16:40                1   \n",
       " ...           ...                  ...                   ...              ...   \n",
       " 7832540         2  2019-03-31 23:58:52   2019-04-01 00:05:04                1   \n",
       " 7832541         2  2019-03-31 23:20:15   2019-03-31 23:24:12                1   \n",
       " 7832542         2  2019-03-31 23:32:15   2019-03-31 23:54:36                1   \n",
       " 7832543         2  2019-03-31 22:32:57   2019-03-31 23:21:22                1   \n",
       " 7832544         2  2019-03-31 23:31:13   2019-03-31 23:31:15                1   \n",
       " \n",
       "          trip_distance  RatecodeID store_and_fwd_flag  PULocationID  \\\n",
       " 0                 0.00           1                  N           145   \n",
       " 1                 3.70           1                  N            95   \n",
       " 2                14.10           1                  N           249   \n",
       " 3                 9.60           1                  N           138   \n",
       " 4                 0.80           1                  N            48   \n",
       " ...                ...         ...                ...           ...   \n",
       " 7832540           0.74           1                  N           186   \n",
       " 7832541           1.11           1                  N           263   \n",
       " 7832542          13.17           1                  N            75   \n",
       " 7832543           0.00           1                  N           237   \n",
       " 7832544           0.00           1                  N           264   \n",
       " \n",
       "          DOLocationID  payment_type  fare_amount  extra  mta_tax  tip_amount  \\\n",
       " 0                 145             2          2.5    0.5      0.5        0.00   \n",
       " 1                 130             1         13.0    0.5      0.5        0.70   \n",
       " 2                  28             1         41.0    3.0      0.5       10.10   \n",
       " 3                  98             2         27.0    0.5      0.5        0.00   \n",
       " 4                  48             1          5.5    3.0      0.5        3.00   \n",
       " ...               ...           ...          ...    ...      ...         ...   \n",
       " 7832540           186             1          5.5    0.5      0.5        2.33   \n",
       " 7832541           236             2          5.5    0.5      0.5        0.00   \n",
       " 7832542           134             2         37.0    0.5      0.5        0.00   \n",
       " 7832543           193             2          0.0    0.0      0.0        0.00   \n",
       " 7832544           264             2          0.0    0.0      0.0        0.00   \n",
       " \n",
       "          tolls_amount  improvement_surcharge  total_amount  \\\n",
       " 0                0.00                    0.3          3.80   \n",
       " 1                0.00                    0.3         15.00   \n",
       " 2                5.76                    0.3         60.66   \n",
       " 3                0.00                    0.3         28.30   \n",
       " 4                0.00                    0.3         12.30   \n",
       " ...               ...                    ...           ...   \n",
       " 7832540          0.00                    0.3         11.63   \n",
       " 7832541          0.00                    0.3          9.30   \n",
       " 7832542          5.76                    0.3         44.06   \n",
       " 7832543          0.00                    0.0          0.00   \n",
       " 7832544          0.00                    0.0          0.00   \n",
       " \n",
       "          congestion_surcharge  \n",
       " 0                         0.0  \n",
       " 1                         0.0  \n",
       " 2                         2.5  \n",
       " 3                         0.0  \n",
       " 4                         2.5  \n",
       " ...                       ...  \n",
       " 7832540                   2.5  \n",
       " 7832541                   2.5  \n",
       " 7832542                   0.0  \n",
       " 7832543                   2.5  \n",
       " 7832544                   0.0  \n",
       " \n",
       " [7832545 rows x 18 columns]),\n",
       " Completed(message=None, type=COMPLETED, result=         VendorID tpep_pickup_datetime tpep_dropoff_datetime  passenger_count  \\\n",
       " 0               1  2019-03-01 00:24:41   2019-03-01 00:25:31                1   \n",
       " 1               1  2019-03-01 00:25:27   2019-03-01 00:36:37                2   \n",
       " 2               1  2019-03-01 00:05:21   2019-03-01 00:38:23                1   \n",
       " 3               1  2019-03-01 00:48:55   2019-03-01 01:06:03                1   \n",
       " 4               1  2019-03-01 00:11:42   2019-03-01 00:16:40                1   \n",
       " ...           ...                  ...                   ...              ...   \n",
       " 7832540         2  2019-03-31 23:58:52   2019-04-01 00:05:04                1   \n",
       " 7832541         2  2019-03-31 23:20:15   2019-03-31 23:24:12                1   \n",
       " 7832542         2  2019-03-31 23:32:15   2019-03-31 23:54:36                1   \n",
       " 7832543         2  2019-03-31 22:32:57   2019-03-31 23:21:22                1   \n",
       " 7832544         2  2019-03-31 23:31:13   2019-03-31 23:31:15                1   \n",
       " \n",
       "          trip_distance  RatecodeID store_and_fwd_flag  PULocationID  \\\n",
       " 0                 0.00           1                  N           145   \n",
       " 1                 3.70           1                  N            95   \n",
       " 2                14.10           1                  N           249   \n",
       " 3                 9.60           1                  N           138   \n",
       " 4                 0.80           1                  N            48   \n",
       " ...                ...         ...                ...           ...   \n",
       " 7832540           0.74           1                  N           186   \n",
       " 7832541           1.11           1                  N           263   \n",
       " 7832542          13.17           1                  N            75   \n",
       " 7832543           0.00           1                  N           237   \n",
       " 7832544           0.00           1                  N           264   \n",
       " \n",
       "          DOLocationID  payment_type  fare_amount  extra  mta_tax  tip_amount  \\\n",
       " 0                 145             2          2.5    0.5      0.5        0.00   \n",
       " 1                 130             1         13.0    0.5      0.5        0.70   \n",
       " 2                  28             1         41.0    3.0      0.5       10.10   \n",
       " 3                  98             2         27.0    0.5      0.5        0.00   \n",
       " 4                  48             1          5.5    3.0      0.5        3.00   \n",
       " ...               ...           ...          ...    ...      ...         ...   \n",
       " 7832540           186             1          5.5    0.5      0.5        2.33   \n",
       " 7832541           236             2          5.5    0.5      0.5        0.00   \n",
       " 7832542           134             2         37.0    0.5      0.5        0.00   \n",
       " 7832543           193             2          0.0    0.0      0.0        0.00   \n",
       " 7832544           264             2          0.0    0.0      0.0        0.00   \n",
       " \n",
       "          tolls_amount  improvement_surcharge  total_amount  \\\n",
       " 0                0.00                    0.3          3.80   \n",
       " 1                0.00                    0.3         15.00   \n",
       " 2                5.76                    0.3         60.66   \n",
       " 3                0.00                    0.3         28.30   \n",
       " 4                0.00                    0.3         12.30   \n",
       " ...               ...                    ...           ...   \n",
       " 7832540          0.00                    0.3         11.63   \n",
       " 7832541          0.00                    0.3          9.30   \n",
       " 7832542          5.76                    0.3         44.06   \n",
       " 7832543          0.00                    0.0          0.00   \n",
       " 7832544          0.00                    0.0          0.00   \n",
       " \n",
       "          congestion_surcharge  \n",
       " 0                         0.0  \n",
       " 1                         0.0  \n",
       " 2                         2.5  \n",
       " 3                         0.0  \n",
       " 4                         2.5  \n",
       " ...                       ...  \n",
       " 7832540                   2.5  \n",
       " 7832541                   2.5  \n",
       " 7832542                   0.0  \n",
       " 7832543                   2.5  \n",
       " 7832544                   0.0  \n",
       " \n",
       " [7832545 rows x 18 columns]),\n",
       " Completed(message=None, type=COMPLETED, result=PosixPath('data/yellow/yellow_tripdata_2019-03.parquet')),\n",
       " Completed(message=None, type=COMPLETED, result=LiteralResult(type='literal', value=None))]"
      ]
     },
     "execution_count": 5,
     "metadata": {},
     "output_type": "execute_result"
    }
   ],
   "source": [
    "etl_web_to_gcs(months =[2,3], year=2019, color=\"yellow\")"
   ]
  },
  {
   "cell_type": "code",
   "execution_count": 12,
   "id": "81139928",
   "metadata": {},
   "outputs": [
    {
     "name": "stderr",
     "output_type": "stream",
     "text": [
      "/Users/manojkl/miniforge3/envs/etl_gcp/lib/python3.9/site-packages/prefect/tasks.py:256: UserWarning: A task named 'extract_from_gcs' and defined at '/var/folders/lf/203pfq2545v143_jyxtx1sgh0000gn/T/ipykernel_16243/1533059540.py:1' conflicts with another task. Consider specifying a unique `name` parameter in the task definition:\n",
      "\n",
      " `@task(name='my_unique_name', ...)`\n",
      "  warnings.warn(\n",
      "/Users/manojkl/miniforge3/envs/etl_gcp/lib/python3.9/site-packages/prefect/tasks.py:256: UserWarning: A task named 'write_bq' and defined at '/var/folders/lf/203pfq2545v143_jyxtx1sgh0000gn/T/ipykernel_16243/1533059540.py:20' conflicts with another task. Consider specifying a unique `name` parameter in the task definition:\n",
      "\n",
      " `@task(name='my_unique_name', ...)`\n",
      "  warnings.warn(\n",
      "/Users/manojkl/miniforge3/envs/etl_gcp/lib/python3.9/site-packages/prefect/flows.py:206: UserWarning: A flow named 'etl-gcs-to-bq' and defined at '/var/folders/lf/203pfq2545v143_jyxtx1sgh0000gn/T/ipykernel_16243/1533059540.py:34' conflicts with another flow. Consider specifying a unique `name` parameter in the flow definition:\n",
      "\n",
      " `@flow(name='my_unique_name', ...)`\n",
      "  warnings.warn(\n"
     ]
    },
    {
     "data": {
      "text/html": [
       "<pre style=\"white-space:pre;overflow-x:auto;line-height:normal;font-family:Menlo,'DejaVu Sans Mono',consolas,'Courier New',monospace\">20:23:37.485 | <span style=\"color: #008080; text-decoration-color: #008080\">INFO</span>    | prefect.engine - Created flow run<span style=\"color: #800080; text-decoration-color: #800080\"> 'attentive-hog'</span> for flow<span style=\"color: #800080; text-decoration-color: #800080; font-weight: bold\"> 'etl-gcs-to-bq'</span>\n",
       "</pre>\n"
      ],
      "text/plain": [
       "20:23:37.485 | \u001b[36mINFO\u001b[0m    | prefect.engine - Created flow run\u001b[35m 'attentive-hog'\u001b[0m for flow\u001b[1;35m 'etl-gcs-to-bq'\u001b[0m\n"
      ]
     },
     "metadata": {},
     "output_type": "display_data"
    },
    {
     "data": {
      "text/html": [
       "<pre style=\"white-space:pre;overflow-x:auto;line-height:normal;font-family:Menlo,'DejaVu Sans Mono',consolas,'Courier New',monospace\">20:23:37.545 | <span style=\"color: #008080; text-decoration-color: #008080\">INFO</span>    | Flow run<span style=\"color: #800080; text-decoration-color: #800080\"> 'attentive-hog'</span> - Created task run 'extract_from_gcs-968e3b65-0' for task 'extract_from_gcs'\n",
       "</pre>\n"
      ],
      "text/plain": [
       "20:23:37.545 | \u001b[36mINFO\u001b[0m    | Flow run\u001b[35m 'attentive-hog'\u001b[0m - Created task run 'extract_from_gcs-968e3b65-0' for task 'extract_from_gcs'\n"
      ]
     },
     "metadata": {},
     "output_type": "display_data"
    },
    {
     "data": {
      "text/html": [
       "<pre style=\"white-space:pre;overflow-x:auto;line-height:normal;font-family:Menlo,'DejaVu Sans Mono',consolas,'Courier New',monospace\">20:23:37.546 | <span style=\"color: #008080; text-decoration-color: #008080\">INFO</span>    | Flow run<span style=\"color: #800080; text-decoration-color: #800080\"> 'attentive-hog'</span> - Executing 'extract_from_gcs-968e3b65-0' immediately...\n",
       "</pre>\n"
      ],
      "text/plain": [
       "20:23:37.546 | \u001b[36mINFO\u001b[0m    | Flow run\u001b[35m 'attentive-hog'\u001b[0m - Executing 'extract_from_gcs-968e3b65-0' immediately...\n"
      ]
     },
     "metadata": {},
     "output_type": "display_data"
    },
    {
     "data": {
      "text/html": [
       "<pre style=\"white-space:pre;overflow-x:auto;line-height:normal;font-family:Menlo,'DejaVu Sans Mono',consolas,'Courier New',monospace\">20:23:37.916 | <span style=\"color: #008080; text-decoration-color: #008080\">INFO</span>    | Task run 'extract_from_gcs-968e3b65-0' - Downloading blob named data/yellow/yellow_tripdata_2019-02.parquet from the dtc_data_lake_esoteric-pen-376110 bucket to gcp_data/data/yellow/yellow_tripdata_2019-02.parquet\n",
       "</pre>\n"
      ],
      "text/plain": [
       "20:23:37.916 | \u001b[36mINFO\u001b[0m    | Task run 'extract_from_gcs-968e3b65-0' - Downloading blob named data/yellow/yellow_tripdata_2019-02.parquet from the dtc_data_lake_esoteric-pen-376110 bucket to gcp_data/data/yellow/yellow_tripdata_2019-02.parquet\n"
      ]
     },
     "metadata": {},
     "output_type": "display_data"
    },
    {
     "data": {
      "text/html": [
       "<pre style=\"white-space:pre;overflow-x:auto;line-height:normal;font-family:Menlo,'DejaVu Sans Mono',consolas,'Courier New',monospace\">20:23:49.339 | <span style=\"color: #008080; text-decoration-color: #008080\">INFO</span>    | Task run 'extract_from_gcs-968e3b65-0' - Finished in state <span style=\"color: #008000; text-decoration-color: #008000\">Completed</span>()\n",
       "</pre>\n"
      ],
      "text/plain": [
       "20:23:49.339 | \u001b[36mINFO\u001b[0m    | Task run 'extract_from_gcs-968e3b65-0' - Finished in state \u001b[32mCompleted\u001b[0m()\n"
      ]
     },
     "metadata": {},
     "output_type": "display_data"
    },
    {
     "data": {
      "text/html": [
       "<pre style=\"white-space:pre;overflow-x:auto;line-height:normal;font-family:Menlo,'DejaVu Sans Mono',consolas,'Courier New',monospace\">20:23:49.861 | <span style=\"color: #008080; text-decoration-color: #008080\">INFO</span>    | Flow run<span style=\"color: #800080; text-decoration-color: #800080\"> 'attentive-hog'</span> - rows: 7019375\n",
       "</pre>\n"
      ],
      "text/plain": [
       "20:23:49.861 | \u001b[36mINFO\u001b[0m    | Flow run\u001b[35m 'attentive-hog'\u001b[0m - rows: 7019375\n"
      ]
     },
     "metadata": {},
     "output_type": "display_data"
    },
    {
     "data": {
      "text/html": [
       "<pre style=\"white-space:pre;overflow-x:auto;line-height:normal;font-family:Menlo,'DejaVu Sans Mono',consolas,'Courier New',monospace\">20:23:49.876 | <span style=\"color: #008080; text-decoration-color: #008080\">INFO</span>    | Flow run<span style=\"color: #800080; text-decoration-color: #800080\"> 'attentive-hog'</span> - Created task run 'write_bq-b366772c-0' for task 'write_bq'\n",
       "</pre>\n"
      ],
      "text/plain": [
       "20:23:49.876 | \u001b[36mINFO\u001b[0m    | Flow run\u001b[35m 'attentive-hog'\u001b[0m - Created task run 'write_bq-b366772c-0' for task 'write_bq'\n"
      ]
     },
     "metadata": {},
     "output_type": "display_data"
    },
    {
     "data": {
      "text/html": [
       "<pre style=\"white-space:pre;overflow-x:auto;line-height:normal;font-family:Menlo,'DejaVu Sans Mono',consolas,'Courier New',monospace\">20:23:49.878 | <span style=\"color: #008080; text-decoration-color: #008080\">INFO</span>    | Flow run<span style=\"color: #800080; text-decoration-color: #800080\"> 'attentive-hog'</span> - Executing 'write_bq-b366772c-0' immediately...\n",
       "</pre>\n"
      ],
      "text/plain": [
       "20:23:49.878 | \u001b[36mINFO\u001b[0m    | Flow run\u001b[35m 'attentive-hog'\u001b[0m - Executing 'write_bq-b366772c-0' immediately...\n"
      ]
     },
     "metadata": {},
     "output_type": "display_data"
    },
    {
     "data": {
      "text/html": [
       "<pre style=\"white-space:pre;overflow-x:auto;line-height:normal;font-family:Menlo,'DejaVu Sans Mono',consolas,'Courier New',monospace\">20:24:40.500 | <span style=\"color: #008080; text-decoration-color: #008080\">INFO</span>    | Task run 'write_bq-b366772c-0' - Finished in state <span style=\"color: #008000; text-decoration-color: #008000\">Completed</span>()\n",
       "</pre>\n"
      ],
      "text/plain": [
       "20:24:40.500 | \u001b[36mINFO\u001b[0m    | Task run 'write_bq-b366772c-0' - Finished in state \u001b[32mCompleted\u001b[0m()\n"
      ]
     },
     "metadata": {},
     "output_type": "display_data"
    },
    {
     "data": {
      "text/html": [
       "<pre style=\"white-space:pre;overflow-x:auto;line-height:normal;font-family:Menlo,'DejaVu Sans Mono',consolas,'Courier New',monospace\">20:24:40.521 | <span style=\"color: #008080; text-decoration-color: #008080\">INFO</span>    | Flow run<span style=\"color: #800080; text-decoration-color: #800080\"> 'attentive-hog'</span> - Created task run 'extract_from_gcs-968e3b65-1' for task 'extract_from_gcs'\n",
       "</pre>\n"
      ],
      "text/plain": [
       "20:24:40.521 | \u001b[36mINFO\u001b[0m    | Flow run\u001b[35m 'attentive-hog'\u001b[0m - Created task run 'extract_from_gcs-968e3b65-1' for task 'extract_from_gcs'\n"
      ]
     },
     "metadata": {},
     "output_type": "display_data"
    },
    {
     "data": {
      "text/html": [
       "<pre style=\"white-space:pre;overflow-x:auto;line-height:normal;font-family:Menlo,'DejaVu Sans Mono',consolas,'Courier New',monospace\">20:24:40.522 | <span style=\"color: #008080; text-decoration-color: #008080\">INFO</span>    | Flow run<span style=\"color: #800080; text-decoration-color: #800080\"> 'attentive-hog'</span> - Executing 'extract_from_gcs-968e3b65-1' immediately...\n",
       "</pre>\n"
      ],
      "text/plain": [
       "20:24:40.522 | \u001b[36mINFO\u001b[0m    | Flow run\u001b[35m 'attentive-hog'\u001b[0m - Executing 'extract_from_gcs-968e3b65-1' immediately...\n"
      ]
     },
     "metadata": {},
     "output_type": "display_data"
    },
    {
     "data": {
      "text/html": [
       "<pre style=\"white-space:pre;overflow-x:auto;line-height:normal;font-family:Menlo,'DejaVu Sans Mono',consolas,'Courier New',monospace\">20:24:40.889 | <span style=\"color: #008080; text-decoration-color: #008080\">INFO</span>    | Task run 'extract_from_gcs-968e3b65-1' - Downloading blob named data/yellow/yellow_tripdata_2019-03.parquet from the dtc_data_lake_esoteric-pen-376110 bucket to gcp_data/data/yellow/yellow_tripdata_2019-03.parquet\n",
       "</pre>\n"
      ],
      "text/plain": [
       "20:24:40.889 | \u001b[36mINFO\u001b[0m    | Task run 'extract_from_gcs-968e3b65-1' - Downloading blob named data/yellow/yellow_tripdata_2019-03.parquet from the dtc_data_lake_esoteric-pen-376110 bucket to gcp_data/data/yellow/yellow_tripdata_2019-03.parquet\n"
      ]
     },
     "metadata": {},
     "output_type": "display_data"
    },
    {
     "data": {
      "text/html": [
       "<pre style=\"white-space:pre;overflow-x:auto;line-height:normal;font-family:Menlo,'DejaVu Sans Mono',consolas,'Courier New',monospace\">20:24:53.573 | <span style=\"color: #008080; text-decoration-color: #008080\">INFO</span>    | Task run 'extract_from_gcs-968e3b65-1' - Finished in state <span style=\"color: #008000; text-decoration-color: #008000\">Completed</span>()\n",
       "</pre>\n"
      ],
      "text/plain": [
       "20:24:53.573 | \u001b[36mINFO\u001b[0m    | Task run 'extract_from_gcs-968e3b65-1' - Finished in state \u001b[32mCompleted\u001b[0m()\n"
      ]
     },
     "metadata": {},
     "output_type": "display_data"
    },
    {
     "data": {
      "text/html": [
       "<pre style=\"white-space:pre;overflow-x:auto;line-height:normal;font-family:Menlo,'DejaVu Sans Mono',consolas,'Courier New',monospace\">20:24:54.215 | <span style=\"color: #008080; text-decoration-color: #008080\">INFO</span>    | Flow run<span style=\"color: #800080; text-decoration-color: #800080\"> 'attentive-hog'</span> - rows: 7832545\n",
       "</pre>\n"
      ],
      "text/plain": [
       "20:24:54.215 | \u001b[36mINFO\u001b[0m    | Flow run\u001b[35m 'attentive-hog'\u001b[0m - rows: 7832545\n"
      ]
     },
     "metadata": {},
     "output_type": "display_data"
    },
    {
     "data": {
      "text/html": [
       "<pre style=\"white-space:pre;overflow-x:auto;line-height:normal;font-family:Menlo,'DejaVu Sans Mono',consolas,'Courier New',monospace\">20:24:54.234 | <span style=\"color: #008080; text-decoration-color: #008080\">INFO</span>    | Flow run<span style=\"color: #800080; text-decoration-color: #800080\"> 'attentive-hog'</span> - Created task run 'write_bq-b366772c-1' for task 'write_bq'\n",
       "</pre>\n"
      ],
      "text/plain": [
       "20:24:54.234 | \u001b[36mINFO\u001b[0m    | Flow run\u001b[35m 'attentive-hog'\u001b[0m - Created task run 'write_bq-b366772c-1' for task 'write_bq'\n"
      ]
     },
     "metadata": {},
     "output_type": "display_data"
    },
    {
     "data": {
      "text/html": [
       "<pre style=\"white-space:pre;overflow-x:auto;line-height:normal;font-family:Menlo,'DejaVu Sans Mono',consolas,'Courier New',monospace\">20:24:54.235 | <span style=\"color: #008080; text-decoration-color: #008080\">INFO</span>    | Flow run<span style=\"color: #800080; text-decoration-color: #800080\"> 'attentive-hog'</span> - Executing 'write_bq-b366772c-1' immediately...\n",
       "</pre>\n"
      ],
      "text/plain": [
       "20:24:54.235 | \u001b[36mINFO\u001b[0m    | Flow run\u001b[35m 'attentive-hog'\u001b[0m - Executing 'write_bq-b366772c-1' immediately...\n"
      ]
     },
     "metadata": {},
     "output_type": "display_data"
    },
    {
     "data": {
      "text/html": [
       "<pre style=\"white-space:pre;overflow-x:auto;line-height:normal;font-family:Menlo,'DejaVu Sans Mono',consolas,'Courier New',monospace\">20:25:59.816 | <span style=\"color: #008080; text-decoration-color: #008080\">INFO</span>    | Task run 'write_bq-b366772c-1' - Finished in state <span style=\"color: #008000; text-decoration-color: #008000\">Completed</span>()\n",
       "</pre>\n"
      ],
      "text/plain": [
       "20:25:59.816 | \u001b[36mINFO\u001b[0m    | Task run 'write_bq-b366772c-1' - Finished in state \u001b[32mCompleted\u001b[0m()\n"
      ]
     },
     "metadata": {},
     "output_type": "display_data"
    },
    {
     "data": {
      "text/html": [
       "<pre style=\"white-space:pre;overflow-x:auto;line-height:normal;font-family:Menlo,'DejaVu Sans Mono',consolas,'Courier New',monospace\">20:25:59.831 | <span style=\"color: #008080; text-decoration-color: #008080\">INFO</span>    | Flow run<span style=\"color: #800080; text-decoration-color: #800080\"> 'attentive-hog'</span> - Finished in state <span style=\"color: #008000; text-decoration-color: #008000\">Completed</span>('All states completed.')\n",
       "</pre>\n"
      ],
      "text/plain": [
       "20:25:59.831 | \u001b[36mINFO\u001b[0m    | Flow run\u001b[35m 'attentive-hog'\u001b[0m - Finished in state \u001b[32mCompleted\u001b[0m('All states completed.')\n"
      ]
     },
     "metadata": {},
     "output_type": "display_data"
    }
   ],
   "source": [
    "@task(retries=3)\n",
    "def extract_from_gcs(color: str, year: int, month: int) -> Path:\n",
    "    \"\"\"Download trip data from GCS\"\"\"\n",
    "    gcs_path = f\"data/{color}/{color}_tripdata_{year}-{month:02}.parquet\"\n",
    "    gcs_block = GcsBucket.load(\"zoom-gcs\")\n",
    "    gcs_block.get_directory(from_path=gcs_path, local_path=f\"gcp_data/\")\n",
    "    return Path(gcs_path)\n",
    "\n",
    "\n",
    "# @task()\n",
    "# def transform(path: Path) -> pd.DataFrame:\n",
    "#     \"\"\"Data cleaning example\"\"\"\n",
    "#     df = pd.read_parquet(path)\n",
    "#     print(f\"pre: missing passenger count: {df['passenger_count'].isna().sum()}\")\n",
    "#     df[\"passenger_count\"].fillna(0, inplace=True)\n",
    "#     print(f\"post: missing passenger count: {df['passenger_count'].isna().sum()}\")\n",
    "#     return df\n",
    "\n",
    "\n",
    "@task()\n",
    "def write_bq(df: pd.DataFrame) -> None:\n",
    "    \"\"\"Write DataFrame to BiqQuery\"\"\"\n",
    "\n",
    "    gcp_credentials_block = GcpCredentials.load(\"zoom-gcp-creds\")\n",
    "\n",
    "    df.to_gbq(\n",
    "        destination_table=\"dezoomcamp.rides\",\n",
    "        project_id=\"esoteric-pen-376110\",\n",
    "        credentials=gcp_credentials_block.get_credentials_from_service_account(),\n",
    "        chunksize=500_000,\n",
    "        if_exists=\"append\",\n",
    "    )\n",
    "\n",
    "@flow(log_prints=True)\n",
    "def etl_gcs_to_bq( months: list[int] = [2, 3], year: int = 2019, color: str = \"yellow\"):\n",
    "    \"\"\"Main ETL flow to load data into Big Query\"\"\"\n",
    "    # color = \"yellow\"\n",
    "    # year = 2021\n",
    "    # month = 1\n",
    "    no_of_rows = 0\n",
    "\n",
    "    for month in months:\n",
    "        \n",
    "        path = extract_from_gcs(color, year, month)\n",
    "        \n",
    "        df = pd.read_parquet(path)\n",
    "        # df = transform(path)\n",
    "        print(f\"rows: {len(df)}\")\n",
    "        no_of_rows+=len(df)\n",
    "        write_bq(df)\n",
    "\n",
    "    print(\"Total number of rows processed:\", no_of_rows)\n",
    "\n",
    "if __name__ == \"__main__\":\n",
    "    \n",
    "    etl_gcs_to_bq()\n",
    "    # dep = Deployment.build_from_flow(\n",
    "    # flow=etl_gcs_to_bq,\n",
    "    # name=\"gcs_to_bq\"\n",
    "    # )\n",
    "\n",
    "    # dep.apply()"
   ]
  },
  {
   "cell_type": "code",
   "execution_count": null,
   "id": "7d3306c6",
   "metadata": {},
   "outputs": [],
   "source": []
  }
 ],
 "metadata": {
  "kernelspec": {
   "display_name": "etl_gcp",
   "language": "python",
   "name": "python3"
  },
  "language_info": {
   "codemirror_mode": {
    "name": "ipython",
    "version": 3
   },
   "file_extension": ".py",
   "mimetype": "text/x-python",
   "name": "python",
   "nbconvert_exporter": "python",
   "pygments_lexer": "ipython3",
   "version": "3.9.16 (main, Jan 11 2023, 10:02:19) \n[Clang 14.0.6 ]"
  },
  "vscode": {
   "interpreter": {
    "hash": "f51c65e93f784f668dd9d9b5571d9ef953ee199c5870270ff27c9044b2ec89b8"
   }
  }
 },
 "nbformat": 4,
 "nbformat_minor": 5
}
