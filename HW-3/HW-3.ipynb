{
 "cells": [
  {
   "attachments": {},
   "cell_type": "markdown",
   "metadata": {},
   "source": [
    "## Homework\n",
    "[Form](https://forms.gle/ytzVYUh2RptgkvF79)  \n",
    "We will use all the knowledge learned in this week. Please answer your questions via form above.  \n",
    "**Deadline** for the homework is 14th Feb 2022 17:00 CET.\n",
    "\n",
    "### Question 1: \n",
    "**What is count for fhv vehicles data for year 2019**  \n",
    "Can load the data for cloud storage and run a count(*)"
   ]
  },
  {
   "attachments": {},
   "cell_type": "markdown",
   "metadata": {},
   "source": [
    "# Ans\n",
    "- Upload the data of 2019 fhv vehicle data to gcs with etl_web_to_gcs.py function\n",
    "- Transfer the data from gcs to bigquery with etl_gcs_to_bq.py function\n"
   ]
  },
  {
   "attachments": {},
   "cell_type": "markdown",
   "metadata": {},
   "source": [
    "# SQL query\n",
    "```\n",
    "SELECT COUNT(*) FROM `esoteric-pen-376110.dezoomcamp.fhv` LIMIT 1000;\n",
    "SELECT DISTINCT dispatching_base_num FROM `esoteric-pen-376110.dezoomcamp.fhv`;\n",
    "\n",
    "SELECT Count(*) AS DistinctCountries\n",
    "FROM (SELECT DISTINCT dispatching_base_num FROM `esoteric-pen-376110.dezoomcamp.fhv`);\n",
    "\n",
    "CREATE OR REPLACE TABLE esoteric-pen-376110.dezoomcamp.fhv_partitoned_clustered\n",
    "PARTITION BY DATE(dropOff_datetime)\n",
    "CLUSTER BY dispatching_base_num AS\n",
    "SELECT * FROM esoteric-pen-376110.dezoomcamp.fhv;\n",
    "\n",
    "SELECT Count(*) AS DistinctCountries\n",
    "FROM (SELECT DISTINCT(dispatching_base_num=\"B00987\")\n",
    "FROM esoteric-pen-376110.dezoomcamp.fhv_partitoned_clustered\n",
    "WHERE DATE(pickup_datetime) BETWEEN '2019-01-01' AND '2019-03-31');\n",
    "\n",
    "SELECT Count(*) AS DistinctCountries\n",
    "FROM (SELECT DISTINCT(dispatching_base_num=\"B02060\")\n",
    "FROM esoteric-pen-376110.dezoomcamp.fhv_partitoned_clustered\n",
    "WHERE DATE(pickup_datetime) BETWEEN '2019-01-01' AND '2019-03-31');\n",
    "\n",
    "SELECT Count(*) AS DistinctCountries\n",
    "FROM (SELECT DISTINCT(dispatching_base_num=\"B02279\")\n",
    "FROM esoteric-pen-376110.dezoomcamp.fhv_partitoned_clustered\n",
    "WHERE DATE(pickup_datetime) BETWEEN '2019-01-01' AND '2019-03-31');\n",
    "```"
   ]
  },
  {
   "attachments": {},
   "cell_type": "markdown",
   "metadata": {},
   "source": [
    "![Alt text](images/fhv_count.png \"Cron\")"
   ]
  },
  {
   "attachments": {},
   "cell_type": "markdown",
   "metadata": {},
   "source": [
    "### Question 2: \n",
    "**How many distinct dispatching_base_num we have in fhv for 2019**  \n",
    "Can run a distinct query on the table from question 1"
   ]
  },
  {
   "cell_type": "markdown",
   "metadata": {},
   "source": [
    "![Alt text](images/dispatching_base_count.png \"Cron\")"
   ]
  },
  {
   "attachments": {},
   "cell_type": "markdown",
   "metadata": {},
   "source": [
    "### Question 3: \n",
    "**Best strategy to optimise if query always filter by dropoff_datetime and order by dispatching_base_num**  \n",
    "Review partitioning and clustering video.   \n",
    "We need to think what will be the most optimal strategy to improve query \n",
    "performance and reduce cost.\n",
    "\n",
    "Ans = partition by dropoff_datetime and cluster by dispatching_base_num"
   ]
  },
  {
   "attachments": {},
   "cell_type": "markdown",
   "metadata": {},
   "source": [
    "### Question 4: \n",
    "**What is the count, estimated and actual data processed for query which counts trip between 2019/01/01 and 2019/03/31 for dispatching_base_num B00987, B02060, B02279**  \n",
    "Create a table with optimized clustering and partitioning, and run a \n",
    "count(*). Estimated data processed can be found in top right corner and\n",
    "actual data processed can be found after the query is executed.\n",
    "\n",
    "Ans:3+3+2 = 8\n",
    "\n",
    "![Alt text](images/distinct_count.png \"Cron\")   "
   ]
  },
  {
   "attachments": {},
   "cell_type": "markdown",
   "metadata": {},
   "source": [
    "### Question 5: \n",
    "**What will be the best partitioning or clustering strategy when filtering on dispatching_base_num and SR_Flag**  \n",
    "Review partitioning and clustering video. \n",
    "Partitioning cannot be created on all data types.\n",
    "\n",
    "Ans: Partition on SR_Flag and cluster on dispatching_base_num"
   ]
  },
  {
   "attachments": {},
   "cell_type": "markdown",
   "metadata": {},
   "source": [
    "### Question 6: \n",
    "**What improvements can be seen by partitioning and clustering for data size less than 1 GB**  \n",
    "Partitioning and clustering also creates extra metadata.  \n",
    "Before query execution this metadata needs to be processed.\n",
    "\n",
    "Ans: Table with data size < 1 GB, don’t show significant improvement with partitioning and clustering"
   ]
  },
  {
   "attachments": {},
   "cell_type": "markdown",
   "metadata": {},
   "source": [
    "### (Not required) Question 7: \n",
    "**In which format does BigQuery save data**  \n",
    "Review big query internals video.\n",
    "\n",
    "Ans: Columnar format/ column oriented"
   ]
  }
 ],
 "metadata": {
  "kernelspec": {
   "display_name": "Python 3",
   "language": "python",
   "name": "python3"
  },
  "language_info": {
   "codemirror_mode": {
    "name": "ipython",
    "version": 3
   },
   "file_extension": ".py",
   "mimetype": "text/x-python",
   "name": "python",
   "nbconvert_exporter": "python",
   "pygments_lexer": "ipython3",
   "version": "3.11.1"
  },
  "orig_nbformat": 4,
  "vscode": {
   "interpreter": {
    "hash": "5c7b89af1651d0b8571dde13640ecdccf7d5a6204171d6ab33e7c296e100e08a"
   }
  }
 },
 "nbformat": 4,
 "nbformat_minor": 2
}
